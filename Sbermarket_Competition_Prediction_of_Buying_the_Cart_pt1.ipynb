{
  "nbformat": 4,
  "nbformat_minor": 0,
  "metadata": {
    "colab": {
      "name": "Sbermarket_Competition - Prediction_of_Buying_the Cart_pt1.ipynb",
      "provenance": [],
      "collapsed_sections": [],
      "machine_shape": "hm",
      "authorship_tag": "ABX9TyNMIRhzn9QPUo5rpUo05hcP",
      "include_colab_link": true
    },
    "kernelspec": {
      "name": "python3",
      "display_name": "Python 3"
    },
    "language_info": {
      "name": "python"
    },
    "accelerator": "GPU"
  },
  "cells": [
    {
      "cell_type": "markdown",
      "metadata": {
        "id": "view-in-github",
        "colab_type": "text"
      },
      "source": [
        "<a href=\"https://colab.research.google.com/github/Anenmi/practice/blob/main/Sbermarket_Competition_Prediction_of_Buying_the_Cart_pt1.ipynb\" target=\"_parent\"><img src=\"https://colab.research.google.com/assets/colab-badge.svg\" alt=\"Open In Colab\"/></a>"
      ]
    },
    {
      "cell_type": "markdown",
      "metadata": {
        "id": "iUdy3IC-1fiY"
      },
      "source": [
        "# 0. Импорты"
      ]
    },
    {
      "cell_type": "code",
      "metadata": {
        "id": "LJYoVXKF0dkF"
      },
      "source": [
        "import matplotlib.pyplot as plt\n",
        "import numpy as np\n",
        "import pandas as pd\n",
        "import seaborn as sns\n",
        "\n",
        "%matplotlib inline "
      ],
      "execution_count": 1,
      "outputs": []
    },
    {
      "cell_type": "code",
      "metadata": {
        "id": "u_TpO7DT1EiQ"
      },
      "source": [
        "import datetime\n",
        "from pandas.tseries.offsets import DateOffset\n",
        "import holidays"
      ],
      "execution_count": 2,
      "outputs": []
    },
    {
      "cell_type": "code",
      "metadata": {
        "colab": {
          "base_uri": "https://localhost:8080/"
        },
        "id": "kfvdqddv1GTp",
        "outputId": "a5a47799-fe44-4afc-a15b-83414fa105c8"
      },
      "source": [
        "from google.colab import drive\n",
        "drive.mount('/content/drive')"
      ],
      "execution_count": 3,
      "outputs": [
        {
          "output_type": "stream",
          "name": "stdout",
          "text": [
            "Drive already mounted at /content/drive; to attempt to forcibly remount, call drive.mount(\"/content/drive\", force_remount=True).\n"
          ]
        }
      ]
    },
    {
      "cell_type": "code",
      "metadata": {
        "id": "ScbuGYSDQm6k",
        "colab": {
          "base_uri": "https://localhost:8080/"
        },
        "outputId": "a3fb3412-b4a5-420d-ff91-e4347bbbe573"
      },
      "source": [
        "gpu_info = !nvidia-smi\n",
        "gpu_info = '\\n'.join(gpu_info)\n",
        "if gpu_info.find('failed') >= 0:\n",
        "  print('Not connected to a GPU')\n",
        "else:\n",
        "  print(gpu_info)"
      ],
      "execution_count": 4,
      "outputs": [
        {
          "output_type": "stream",
          "name": "stdout",
          "text": [
            "Thu Nov 18 13:14:46 2021       \n",
            "+-----------------------------------------------------------------------------+\n",
            "| NVIDIA-SMI 495.44       Driver Version: 460.32.03    CUDA Version: 11.2     |\n",
            "|-------------------------------+----------------------+----------------------+\n",
            "| GPU  Name        Persistence-M| Bus-Id        Disp.A | Volatile Uncorr. ECC |\n",
            "| Fan  Temp  Perf  Pwr:Usage/Cap|         Memory-Usage | GPU-Util  Compute M. |\n",
            "|                               |                      |               MIG M. |\n",
            "|===============================+======================+======================|\n",
            "|   0  Tesla P100-PCIE...  Off  | 00000000:00:04.0 Off |                    0 |\n",
            "| N/A   34C    P0    26W / 250W |      0MiB / 16280MiB |      0%      Default |\n",
            "|                               |                      |                  N/A |\n",
            "+-------------------------------+----------------------+----------------------+\n",
            "                                                                               \n",
            "+-----------------------------------------------------------------------------+\n",
            "| Processes:                                                                  |\n",
            "|  GPU   GI   CI        PID   Type   Process name                  GPU Memory |\n",
            "|        ID   ID                                                   Usage      |\n",
            "|=============================================================================|\n",
            "|  No running processes found                                                 |\n",
            "+-----------------------------------------------------------------------------+\n"
          ]
        }
      ]
    },
    {
      "cell_type": "code",
      "metadata": {
        "id": "qGlYtZ2PRSn6",
        "colab": {
          "base_uri": "https://localhost:8080/"
        },
        "outputId": "591a4ee8-9eca-4486-b438-f97423bbb994"
      },
      "source": [
        "from psutil import virtual_memory\n",
        "ram_gb = virtual_memory().total / 1e9\n",
        "print('Your runtime has {:.1f} gigabytes of available RAM\\n'.format(ram_gb))\n",
        "\n",
        "if ram_gb < 20:\n",
        "  print('Not using a high-RAM runtime')\n",
        "else:\n",
        "  print('You are using a high-RAM runtime!')"
      ],
      "execution_count": 5,
      "outputs": [
        {
          "output_type": "stream",
          "name": "stdout",
          "text": [
            "Your runtime has 27.3 gigabytes of available RAM\n",
            "\n",
            "You are using a high-RAM runtime!\n"
          ]
        }
      ]
    },
    {
      "cell_type": "code",
      "metadata": {
        "id": "VttJBCPmQLQ1",
        "colab": {
          "base_uri": "https://localhost:8080/",
          "height": 205
        },
        "outputId": "2744a995-cc4f-4b78-b765-5db722fa0a0b"
      },
      "source": [
        "data = pd.read_csv(\"/content/drive/MyDrive/Colab Notebooks/Data/train.csv\")\n",
        "data.head()"
      ],
      "execution_count": 6,
      "outputs": [
        {
          "output_type": "execute_result",
          "data": {
            "text/html": [
              "<div>\n",
              "<style scoped>\n",
              "    .dataframe tbody tr th:only-of-type {\n",
              "        vertical-align: middle;\n",
              "    }\n",
              "\n",
              "    .dataframe tbody tr th {\n",
              "        vertical-align: top;\n",
              "    }\n",
              "\n",
              "    .dataframe thead th {\n",
              "        text-align: right;\n",
              "    }\n",
              "</style>\n",
              "<table border=\"1\" class=\"dataframe\">\n",
              "  <thead>\n",
              "    <tr style=\"text-align: right;\">\n",
              "      <th></th>\n",
              "      <th>user_id</th>\n",
              "      <th>order_completed_at</th>\n",
              "      <th>cart</th>\n",
              "    </tr>\n",
              "  </thead>\n",
              "  <tbody>\n",
              "    <tr>\n",
              "      <th>0</th>\n",
              "      <td>2</td>\n",
              "      <td>2015-03-22 09:25:46</td>\n",
              "      <td>399</td>\n",
              "    </tr>\n",
              "    <tr>\n",
              "      <th>1</th>\n",
              "      <td>2</td>\n",
              "      <td>2015-03-22 09:25:46</td>\n",
              "      <td>14</td>\n",
              "    </tr>\n",
              "    <tr>\n",
              "      <th>2</th>\n",
              "      <td>2</td>\n",
              "      <td>2015-03-22 09:25:46</td>\n",
              "      <td>198</td>\n",
              "    </tr>\n",
              "    <tr>\n",
              "      <th>3</th>\n",
              "      <td>2</td>\n",
              "      <td>2015-03-22 09:25:46</td>\n",
              "      <td>88</td>\n",
              "    </tr>\n",
              "    <tr>\n",
              "      <th>4</th>\n",
              "      <td>2</td>\n",
              "      <td>2015-03-22 09:25:46</td>\n",
              "      <td>157</td>\n",
              "    </tr>\n",
              "  </tbody>\n",
              "</table>\n",
              "</div>"
            ],
            "text/plain": [
              "   user_id   order_completed_at  cart\n",
              "0        2  2015-03-22 09:25:46   399\n",
              "1        2  2015-03-22 09:25:46    14\n",
              "2        2  2015-03-22 09:25:46   198\n",
              "3        2  2015-03-22 09:25:46    88\n",
              "4        2  2015-03-22 09:25:46   157"
            ]
          },
          "metadata": {},
          "execution_count": 6
        }
      ]
    },
    {
      "cell_type": "code",
      "metadata": {
        "id": "vVgZSOWAQ3kP"
      },
      "source": [
        "data['order_completed_at'] = pd.to_datetime(data['order_completed_at'])\n",
        "#data.info()"
      ],
      "execution_count": 7,
      "outputs": []
    },
    {
      "cell_type": "markdown",
      "metadata": {
        "id": "sivy6BLk1m4k"
      },
      "source": [
        "# 1. Анализ данных"
      ]
    },
    {
      "cell_type": "code",
      "metadata": {
        "colab": {
          "base_uri": "https://localhost:8080/"
        },
        "id": "cuDKPM1F1V8Q",
        "outputId": "2aa23011-f39f-4eb8-bcbf-78e6eff8593e"
      },
      "source": [
        "USER_UNQ_QNT = data['user_id'].nunique()\n",
        "CART_UNQ_QNT = data['cart'].nunique()\n",
        "ORDER_UNQ_QNT = data.loc[:, ('user_id','order_completed_at')].drop_duplicates().shape[0]\n",
        "\n",
        "day_time_format = \"%Y-%m-%d\"\n",
        "START_DAY = data['order_completed_at'].min()\n",
        "END_DAY = data['order_completed_at'].max()\n",
        "\n",
        "print (f'Уникальных клиентов в выборке: {USER_UNQ_QNT}\\n')\n",
        "print (f'Уникальных категорий: {CART_UNQ_QNT}\\n')\n",
        "print (f'Всего заказов: {ORDER_UNQ_QNT}\\n')\n",
        "print (f'Временной промежуток: {START_DAY:{day_time_format}} - {END_DAY:{day_time_format}}')"
      ],
      "execution_count": 8,
      "outputs": [
        {
          "output_type": "stream",
          "name": "stdout",
          "text": [
            "Уникальных клиентов в выборке: 20000\n",
            "\n",
            "Уникальных категорий: 881\n",
            "\n",
            "Всего заказов: 209406\n",
            "\n",
            "Временной промежуток: 2015-03-22 - 2020-09-03\n"
          ]
        }
      ]
    },
    {
      "cell_type": "code",
      "metadata": {
        "colab": {
          "base_uri": "https://localhost:8080/",
          "height": 499
        },
        "id": "HLIeh5m31qJY",
        "outputId": "d719fcce-065d-41e0-8d41-e886b0a677c1"
      },
      "source": [
        "# Сколько заказов совршалось в день\n",
        "data4plt = data.loc[:, ('user_id','order_completed_at')]\n",
        "data4plt['order_completed_at'] = data4plt['order_completed_at'].apply(lambda x: x.date())\n",
        "data4plt = data4plt.drop_duplicates().groupby('order_completed_at', as_index=False).agg({'user_id':'count'} )\n",
        "\n",
        "plt.figure(figsize=(15,8))\n",
        "plt.hist(data4plt['user_id'], bins=10)\n",
        "plt.title('Распределение количества заказов за день')\n",
        "plt.show()"
      ],
      "execution_count": 9,
      "outputs": [
        {
          "output_type": "display_data",
          "data": {
            "image/png": "[encoded data removed]",
            "text/plain": [
              "<Figure size 1080x576 with 1 Axes>"
            ]
          },
          "metadata": {
            "needs_background": "light"
          }
        }
      ]
    },
    {
      "cell_type": "code",
      "metadata": {
        "colab": {
          "base_uri": "https://localhost:8080/",
          "height": 513
        },
        "id": "onHiTLhr1tzS",
        "outputId": "de7be75e-57c2-4cb2-bf69-f398c83033ab"
      },
      "source": [
        "# Сколько заказов совршалось в день\n",
        "x = data4plt['order_completed_at'] \n",
        "y = data4plt['user_id'] \n",
        "\n",
        "plt.figure(figsize=(15,8))\n",
        "plt.scatter(x,y)\n",
        "plt.title('Количество заказов в день')\n",
        "plt.ylabel('Количество заказов')\n",
        "plt.xlabel('Дата')\n",
        "plt.show()"
      ],
      "execution_count": 10,
      "outputs": [
        {
          "output_type": "display_data",
          "data": {
            "image/png": "[encoded data removed]",
            "text/plain": [
              "<Figure size 1080x576 with 1 Axes>"
            ]
          },
          "metadata": {
            "needs_background": "light"
          }
        }
      ]
    },
    {
      "cell_type": "code",
      "metadata": {
        "colab": {
          "base_uri": "https://localhost:8080/",
          "height": 645
        },
        "id": "nzD-5GZ110CN",
        "outputId": "649f3952-199c-4f15-e7c9-61d700868e99"
      },
      "source": [
        "# Сколько раз заказывали каждую категорию\n",
        "data_agg_cart = data.groupby(['cart'], as_index=False)\\\n",
        "                .agg({'user_id':'count'})\\\n",
        "                .sort_values('cart')\\\n",
        "                .rename(columns={'user_id':'cart_num_order'})\n",
        "\n",
        "CART_MAX_ORDER = data_agg_cart[data_agg_cart['cart_num_order']==data_agg_cart['cart_num_order'].max()]  \n",
        "CART_MIN_ORDER = data_agg_cart[data_agg_cart['cart_num_order']==data_agg_cart['cart_num_order'].min()] \n",
        "CART_MEAN_ORDER = int(data_agg_cart['cart_num_order'].mean())\n",
        "CART_MEDIAN_ORDER = int(data_agg_cart['cart_num_order'].median())\n",
        "\n",
        "print ('Максимальное количество раз клиенты заказывали категорию {0} - {1} раз\\n'.format(CART_MAX_ORDER.iloc[0,0],CART_MAX_ORDER.iloc[0,1]))\n",
        "print ('Есть категории, которые присутствовали в заказах только 1 раз, таких категорий {0} штук\\n'.format(CART_MIN_ORDER.shape[0]))\n",
        "print (f'В среднем одну категорию заказывают {CART_MEAN_ORDER} раз\\n')\n",
        "print (f'Медиана количества заказов категории - {CART_MEDIAN_ORDER }\\n')\n",
        "\n",
        "plt.figure(figsize=(15,8))\n",
        "plt.hist(data_agg_cart['cart_num_order'], bins=10)\n",
        "plt.title('Распределение количества заказов категории')\n",
        "plt.show()"
      ],
      "execution_count": 11,
      "outputs": [
        {
          "output_type": "stream",
          "name": "stdout",
          "text": [
            "Максимальное количество раз клиенты заказывали категорию 57 - 108877 раз\n",
            "\n",
            "Есть категории, которые присутствовали в заказах только 1 раз, таких категорий 78 штук\n",
            "\n",
            "В среднем одну категорию заказывают 3544 раз\n",
            "\n",
            "Медиана количества заказов категории - 66\n",
            "\n"
          ]
        },
        {
          "output_type": "display_data",
          "data": {
            "image/png": "[encoded data removed]",
            "text/plain": [
              "<Figure size 1080x576 with 1 Axes>"
            ]
          },
          "metadata": {
            "needs_background": "light"
          }
        }
      ]
    },
    {
      "cell_type": "code",
      "metadata": {
        "colab": {
          "base_uri": "https://localhost:8080/",
          "height": 645
        },
        "id": "lhkq195714F3",
        "outputId": "71b525ef-adca-426d-d9e1-0ac373e1184d"
      },
      "source": [
        "# Сколько заказов совершил каждый клиент\n",
        "data_agg_client = data.loc[:,('user_id','order_completed_at')]\\\n",
        "                  .drop_duplicates()\\\n",
        "                  .groupby(['user_id'], as_index=False)\\\n",
        "                  .agg({'order_completed_at':'count'})\\\n",
        "                  .sort_values('user_id',  ascending=True)\\\n",
        "                  .rename(columns={'order_completed_at':'client_num_order'}) \n",
        "\n",
        "CLIENT_MAX_ORDER = data_agg_client[data_agg_client['client_num_order']==data_agg_client['client_num_order'].max()]  \n",
        "CLIENT_MIN_ORDER = data_agg_client[data_agg_client['client_num_order']==data_agg_client['client_num_order'].min()] \n",
        "CLIENT_MEAN_ORDER = int(data_agg_client['client_num_order'].mean())\n",
        "CLIENT_MEDIAN_ORDER = int(data_agg_client['client_num_order'].median())      \n",
        "\n",
        "print ('Максимальное количество заказов сделал клиент {0} - {1} раз\\n'.format(CLIENT_MAX_ORDER.iloc[0,0],CLIENT_MAX_ORDER.iloc[0,1]))\n",
        "print ('Есть клиенты, которые сделали только 1 заказ - таких клиентов {0} человек\\n'.format(CLIENT_MIN_ORDER.shape[0]))\n",
        "print (f'В среднем клиенты сделали {CLIENT_MEAN_ORDER} заказов\\n')\n",
        "print (f'Медиана количества заказов на клиента - {CLIENT_MEDIAN_ORDER }\\n')\n",
        "\n",
        "plt.figure(figsize=(15,8))\n",
        "plt.hist(data_agg_client['client_num_order'], bins=10)\n",
        "plt.title('Распределение количества заказов, которые совершил клиент')\n",
        "plt.show()"
      ],
      "execution_count": 12,
      "outputs": [
        {
          "output_type": "stream",
          "name": "stdout",
          "text": [
            "Максимальное количество заказов сделал клиент 2196 - 213 раз\n",
            "\n",
            "Есть клиенты, которые сделали только 1 заказ - таких клиентов 4038 человек\n",
            "\n",
            "В среднем клиенты сделали 10 заказов\n",
            "\n",
            "Медиана количества заказов на клиента - 6\n",
            "\n"
          ]
        },
        {
          "output_type": "display_data",
          "data": {
            "image/png": "[encoded data removed]",
            "text/plain": [
              "<Figure size 1080x576 with 1 Axes>"
            ]
          },
          "metadata": {
            "needs_background": "light"
          }
        }
      ]
    },
    {
      "cell_type": "code",
      "metadata": {
        "colab": {
          "base_uri": "https://localhost:8080/"
        },
        "id": "mJMRtK5b2EKc",
        "outputId": "d4389a8b-c2a4-4609-b4cc-21fca2933c95"
      },
      "source": [
        "# Сколько заказов каждой категории совершил каждый клиент\n",
        "client_cart_agg = data.groupby(['cart','user_id'], as_index=False)\\\n",
        "                        .agg({'order_completed_at':'count'})\\\n",
        "                        .sort_values(['cart','user_id'], ascending=False)\\\n",
        "                        .rename(columns={'order_completed_at':'order_cart_by_user'}) \n",
        "\n",
        "CLIENT_CART_MAX_ORDER = client_cart_agg[client_cart_agg['order_cart_by_user'] == client_cart_agg['order_cart_by_user'].max()]  \n",
        "CLIENT_CART_MEAN_ORDER = int(client_cart_agg['order_cart_by_user'].mean())\n",
        "CLIENT_CART_MEDIAN_ORDER = int(client_cart_agg['order_cart_by_user'].median())      \n",
        "\n",
        "print ('Больше всего раз клиент {1} заказал категорию {0} - {2} раз\\n'.format(CLIENT_CART_MAX_ORDER.iloc[0,0],CLIENT_CART_MAX_ORDER.iloc[0,1],CLIENT_CART_MAX_ORDER.iloc[0,2]))\n",
        "print (f'В среднем клиенты заказывают категорию {CLIENT_CART_MEAN_ORDER} раза\\n')\n",
        "print (f'Медиана количества заказов категории на клиента - {CLIENT_CART_MEDIAN_ORDER }\\n')"
      ],
      "execution_count": 13,
      "outputs": [
        {
          "output_type": "stream",
          "name": "stdout",
          "text": [
            "Больше всего раз клиент 2196 заказал категорию 57 - 196 раз\n",
            "\n",
            "В среднем клиенты заказывают категорию 2 раза\n",
            "\n",
            "Медиана количества заказов категории на клиента - 1\n",
            "\n"
          ]
        }
      ]
    },
    {
      "cell_type": "markdown",
      "metadata": {
        "id": "Mq46iGHz2Ntu"
      },
      "source": [
        "# 2. Генерация признаков\n",
        "Стоит отметить, что данные транзакционные, а значит мы имеем временные зависимости и не можем использовать информацию о будущем.\n",
        "- Например, мы не можем брать как признак количество заказов клиентом за все время, вместо этого нужно брать количество заказов клиентом до даты, в который был сделан очередной заказ. Так наше исследование будет ex-ante"
      ]
    },
    {
      "cell_type": "code",
      "metadata": {
        "colab": {
          "base_uri": "https://localhost:8080/"
        },
        "id": "yFfWUHu1q_17",
        "outputId": "91c0ac8b-5608-48d0-8f6f-1c784907141a"
      },
      "source": [
        "df1 = data[['user_id','cart']].drop_duplicates().sort_values(['user_id'], ascending=True)\n",
        "df2 = data[['user_id','order_completed_at']].drop_duplicates()\n",
        "data['target'] = 1\n",
        "df = df1.merge(df2, how='inner', on='user_id')\\\n",
        "    .merge(data, how ='left', on = ['user_id','order_completed_at','user_id','cart'])\n",
        "df['target'].fillna(0, inplace=True)\n",
        "df['target'] = df['target'].astype(int)\n",
        "df.shape"
      ],
      "execution_count": 14,
      "outputs": [
        {
          "output_type": "execute_result",
          "data": {
            "text/plain": [
              "(16966977, 4)"
            ]
          },
          "metadata": {},
          "execution_count": 14
        }
      ]
    },
    {
      "cell_type": "code",
      "metadata": {
        "id": "o73Dgnb6eljj"
      },
      "source": [
        "# Создам сразу тестовую выборку для отправки на kaggle\n",
        "# Пока поставлю затычку, дальше просто спрогнозирую дату след. заказа\n",
        "df1['order_completed_at'] = pd.Timestamp(\"2021/10/18\")\n",
        "df = pd.concat([df, df1], keys=['user_id','cart'], ignore_index=True)"
      ],
      "execution_count": 15,
      "outputs": []
    },
    {
      "cell_type": "code",
      "metadata": {
        "id": "bL7hmZZ8joDg"
      },
      "source": [
        "# Прогнозируем дату следующего заказа как дата предыдущего заказа + период времени между предыдущим заказом и предпредыдущим (Тут можно улучшить обработку данных)\n",
        "df.loc[df['order_completed_at'] == pd.Timestamp(\"2021/10/18\"),'delta'] = df.sort_values('order_completed_at', ascending = True)\\\n",
        "                                                                        .groupby(['user_id','cart'])['order_completed_at']\\\n",
        "                                                                        .shift(1) - df.sort_values('order_completed_at', ascending = True)\\\n",
        "                                                                        .groupby(['user_id','cart'])['order_completed_at']\\\n",
        "                                                                        .shift(2)\n",
        "df.loc[df['order_completed_at'] == pd.Timestamp(\"2021/10/18\"),'order_completed_at'] = df.sort_values('order_completed_at', ascending = True)\\\n",
        "                                                                        .groupby(['user_id','cart'])['order_completed_at']\\\n",
        "                                                                        .shift(1) + df.delta\n",
        "df.drop('delta', axis=1, inplace=True)"
      ],
      "execution_count": 16,
      "outputs": []
    },
    {
      "cell_type": "code",
      "metadata": {
        "colab": {
          "base_uri": "https://localhost:8080/",
          "height": 175
        },
        "id": "_r1GzlYfkBbL",
        "outputId": "1d6d4556-3d6c-4f7f-f255-8210c1becdae"
      },
      "source": [
        "# Проверяю, что все ок\n",
        "df.query('user_id==19999')"
      ],
      "execution_count": 17,
      "outputs": [
        {
          "output_type": "execute_result",
          "data": {
            "text/html": [
              "<div>\n",
              "<style scoped>\n",
              "    .dataframe tbody tr th:only-of-type {\n",
              "        vertical-align: middle;\n",
              "    }\n",
              "\n",
              "    .dataframe tbody tr th {\n",
              "        vertical-align: top;\n",
              "    }\n",
              "\n",
              "    .dataframe thead th {\n",
              "        text-align: right;\n",
              "    }\n",
              "</style>\n",
              "<table border=\"1\" class=\"dataframe\">\n",
              "  <thead>\n",
              "    <tr style=\"text-align: right;\">\n",
              "      <th></th>\n",
              "      <th>user_id</th>\n",
              "      <th>cart</th>\n",
              "      <th>order_completed_at</th>\n",
              "      <th>target</th>\n",
              "    </tr>\n",
              "  </thead>\n",
              "  <tbody>\n",
              "    <tr>\n",
              "      <th>16966974</th>\n",
              "      <td>19999</td>\n",
              "      <td>326</td>\n",
              "      <td>2020-08-31 18:54:24</td>\n",
              "      <td>1.0</td>\n",
              "    </tr>\n",
              "    <tr>\n",
              "      <th>16966975</th>\n",
              "      <td>19999</td>\n",
              "      <td>326</td>\n",
              "      <td>2020-08-31 19:32:08</td>\n",
              "      <td>1.0</td>\n",
              "    </tr>\n",
              "    <tr>\n",
              "      <th>16966976</th>\n",
              "      <td>19999</td>\n",
              "      <td>326</td>\n",
              "      <td>2020-08-31 20:08:24</td>\n",
              "      <td>1.0</td>\n",
              "    </tr>\n",
              "    <tr>\n",
              "      <th>18084576</th>\n",
              "      <td>19999</td>\n",
              "      <td>326</td>\n",
              "      <td>2020-08-31 20:44:40</td>\n",
              "      <td>NaN</td>\n",
              "    </tr>\n",
              "  </tbody>\n",
              "</table>\n",
              "</div>"
            ],
            "text/plain": [
              "          user_id  cart  order_completed_at  target\n",
              "16966974    19999   326 2020-08-31 18:54:24     1.0\n",
              "16966975    19999   326 2020-08-31 19:32:08     1.0\n",
              "16966976    19999   326 2020-08-31 20:08:24     1.0\n",
              "18084576    19999   326 2020-08-31 20:44:40     NaN"
            ]
          },
          "metadata": {},
          "execution_count": 17
        }
      ]
    },
    {
      "cell_type": "code",
      "metadata": {
        "colab": {
          "base_uri": "https://localhost:8080/",
          "height": 513
        },
        "id": "5GzsCZNMsZeZ",
        "outputId": "cf4c54c1-f485-45d3-8b42-77f9521e711a"
      },
      "source": [
        "plt.figure(figsize=(15,8))\n",
        "sns.set_theme(style=\"darkgrid\")\n",
        "sns.countplot(x='target', data=df)\n",
        "plt.show()"
      ],
      "execution_count": 18,
      "outputs": [
        {
          "output_type": "display_data",
          "data": {
            "image/png": "[encoded data removed]",
            "text/plain": [
              "<Figure size 1080x576 with 1 Axes>"
            ]
          },
          "metadata": {
            "needs_background": "light"
          }
        }
      ]
    },
    {
      "cell_type": "markdown",
      "metadata": {
        "id": "v67anJPyqaC_"
      },
      "source": [
        "## 2.1 Временные признаки\n",
        "___\n",
        "1. **order_season_cat** - сезон, 1 - зима, 2 - весна, 3 - лето, 4 - осень\n",
        "1. **order_month_int** - упорядоченный месяц в формате YYYYMM, когда был сделан заказ\n",
        "1. **order_hour_int** - час, в котором был сделан заказ (целое число от 0 до 23)\n",
        "1. **order_is_morning** - 1, если заказ сделан до 11 утра, иначе - 0\n",
        "1. **client_cart_first_order_day_int** - упорядоченный месяц в формате YYYYMM, когда был сделан первый заказ категории клиентом\n",
        "1. **order_weekday_cat** - день недели заказа от 0 до 6\n",
        "1. **order_is_weekend** - 1, если заказ сделан в выходной, иначе 0\n",
        "1. **order_is_holiday** - 1, если заказ сделан в праздник, иначе 0\n",
        "1. **client_cart_period** - Дата прошлого заказа - Дата первого заказа\n"
      ]
    },
    {
      "cell_type": "code",
      "metadata": {
        "id": "LpStgChX69M5"
      },
      "source": [
        "# Функция, которая возвращает год + месяц в упорядоченном виде YYYYMM\n",
        "def year_month(any_day):\n",
        "  return 100 * any_day.year + any_day.month"
      ],
      "execution_count": 19,
      "outputs": []
    },
    {
      "cell_type": "code",
      "metadata": {
        "id": "m__61ykWm77v"
      },
      "source": [
        "# Генерирую дату, когда клиент в первый раз заказал категорию\n",
        "df = df.merge(df\\\n",
        "         .query('target==1')\n",
        "         .groupby(['cart','user_id'],as_index=False)\\\n",
        "         .agg(\n",
        "              client_cart_first_order_day_date=pd.NamedAgg(column='order_completed_at', aggfunc='min')\n",
        "              ),\n",
        "         how='inner',\n",
        "         on=['cart','user_id'])"
      ],
      "execution_count": 20,
      "outputs": []
    },
    {
      "cell_type": "code",
      "metadata": {
        "id": "yNmRoghZ3oNg"
      },
      "source": [
        "df = df.merge(df\\\n",
        "         .query('target in (0,1)')\n",
        "         .groupby(['cart','user_id'], as_index=False)\\\n",
        "         .agg(\n",
        "              client_cart_last_order_day_date=pd.NamedAgg(column='order_completed_at', aggfunc='max')\n",
        "              ),\n",
        "         how='inner',\n",
        "         on=['cart','user_id'])"
      ],
      "execution_count": 21,
      "outputs": []
    },
    {
      "cell_type": "code",
      "metadata": {
        "colab": {
          "base_uri": "https://localhost:8080/"
        },
        "id": "DcCgiKGin28f",
        "outputId": "8ac41051-be52-481f-df66-0441bd5c2e27"
      },
      "source": [
        "# Тут я удаляю все записи, где дата заказа категории по клиенту раньше чем дата первого заказа категории клиентом. \n",
        "# Так как мы не можем прогнозировать на будущих данных\n",
        "# Дальше я еще удалю строки первого заказа по клиенту, т.к. в первый заказ нет никако инфо. Но это после всей обработки даннных\n",
        "df = df[df['client_cart_first_order_day_date']<=df['order_completed_at']]\n",
        "df.shape"
      ],
      "execution_count": 22,
      "outputs": [
        {
          "output_type": "execute_result",
          "data": {
            "text/plain": [
              "(13289445, 6)"
            ]
          },
          "metadata": {},
          "execution_count": 22
        }
      ]
    },
    {
      "cell_type": "code",
      "metadata": {
        "id": "I-Mvo1qNCgOl"
      },
      "source": [
        "# Дата прошлого заказа - Дата первого заказа\n",
        "df['client_cart_period'] = df.order_completed_at - df.client_cart_first_order_day_date\n",
        "df.loc[:,'client_cart_period'] = df['client_cart_period'].apply(lambda x: x.days).fillna(0).round(2)"
      ],
      "execution_count": 23,
      "outputs": []
    },
    {
      "cell_type": "code",
      "metadata": {
        "colab": {
          "base_uri": "https://localhost:8080/",
          "height": 236
        },
        "id": "zUFSMztcUcls",
        "outputId": "74198f24-bca8-4ebf-e4bc-254849a5c093"
      },
      "source": [
        "# Проверяю, что все ок\n",
        "df['last_order_flag'] = df.apply(lambda row: 1 if row['order_completed_at']==row['client_cart_last_order_day_date'] else 0, axis=1)\n",
        "df.query('user_id==10000 & cart==384')"
      ],
      "execution_count": 24,
      "outputs": [
        {
          "output_type": "execute_result",
          "data": {
            "text/html": [
              "<div>\n",
              "<style scoped>\n",
              "    .dataframe tbody tr th:only-of-type {\n",
              "        vertical-align: middle;\n",
              "    }\n",
              "\n",
              "    .dataframe tbody tr th {\n",
              "        vertical-align: top;\n",
              "    }\n",
              "\n",
              "    .dataframe thead th {\n",
              "        text-align: right;\n",
              "    }\n",
              "</style>\n",
              "<table border=\"1\" class=\"dataframe\">\n",
              "  <thead>\n",
              "    <tr style=\"text-align: right;\">\n",
              "      <th></th>\n",
              "      <th>user_id</th>\n",
              "      <th>cart</th>\n",
              "      <th>order_completed_at</th>\n",
              "      <th>target</th>\n",
              "      <th>client_cart_first_order_day_date</th>\n",
              "      <th>client_cart_last_order_day_date</th>\n",
              "      <th>client_cart_period</th>\n",
              "      <th>last_order_flag</th>\n",
              "    </tr>\n",
              "  </thead>\n",
              "  <tbody>\n",
              "    <tr>\n",
              "      <th>13727430</th>\n",
              "      <td>10000</td>\n",
              "      <td>384</td>\n",
              "      <td>2020-03-26 05:10:11</td>\n",
              "      <td>1.0</td>\n",
              "      <td>2020-03-26 05:10:11</td>\n",
              "      <td>2020-08-22 09:07:18</td>\n",
              "      <td>0</td>\n",
              "      <td>0</td>\n",
              "    </tr>\n",
              "    <tr>\n",
              "      <th>13727431</th>\n",
              "      <td>10000</td>\n",
              "      <td>384</td>\n",
              "      <td>2020-05-14 20:47:11</td>\n",
              "      <td>0.0</td>\n",
              "      <td>2020-03-26 05:10:11</td>\n",
              "      <td>2020-08-22 09:07:18</td>\n",
              "      <td>49</td>\n",
              "      <td>0</td>\n",
              "    </tr>\n",
              "    <tr>\n",
              "      <th>13727432</th>\n",
              "      <td>10000</td>\n",
              "      <td>384</td>\n",
              "      <td>2020-06-09 19:56:44</td>\n",
              "      <td>1.0</td>\n",
              "      <td>2020-03-26 05:10:11</td>\n",
              "      <td>2020-08-22 09:07:18</td>\n",
              "      <td>75</td>\n",
              "      <td>0</td>\n",
              "    </tr>\n",
              "    <tr>\n",
              "      <th>13727433</th>\n",
              "      <td>10000</td>\n",
              "      <td>384</td>\n",
              "      <td>2020-07-23 18:07:38</td>\n",
              "      <td>0.0</td>\n",
              "      <td>2020-03-26 05:10:11</td>\n",
              "      <td>2020-08-22 09:07:18</td>\n",
              "      <td>119</td>\n",
              "      <td>0</td>\n",
              "    </tr>\n",
              "    <tr>\n",
              "      <th>13727434</th>\n",
              "      <td>10000</td>\n",
              "      <td>384</td>\n",
              "      <td>2020-08-22 09:07:18</td>\n",
              "      <td>0.0</td>\n",
              "      <td>2020-03-26 05:10:11</td>\n",
              "      <td>2020-08-22 09:07:18</td>\n",
              "      <td>149</td>\n",
              "      <td>1</td>\n",
              "    </tr>\n",
              "    <tr>\n",
              "      <th>13727435</th>\n",
              "      <td>10000</td>\n",
              "      <td>384</td>\n",
              "      <td>2020-09-21 00:06:58</td>\n",
              "      <td>NaN</td>\n",
              "      <td>2020-03-26 05:10:11</td>\n",
              "      <td>2020-08-22 09:07:18</td>\n",
              "      <td>178</td>\n",
              "      <td>0</td>\n",
              "    </tr>\n",
              "  </tbody>\n",
              "</table>\n",
              "</div>"
            ],
            "text/plain": [
              "          user_id  cart  ... client_cart_period  last_order_flag\n",
              "13727430    10000   384  ...                  0                0\n",
              "13727431    10000   384  ...                 49                0\n",
              "13727432    10000   384  ...                 75                0\n",
              "13727433    10000   384  ...                119                0\n",
              "13727434    10000   384  ...                149                1\n",
              "13727435    10000   384  ...                178                0\n",
              "\n",
              "[6 rows x 8 columns]"
            ]
          },
          "metadata": {},
          "execution_count": 24
        }
      ]
    },
    {
      "cell_type": "code",
      "metadata": {
        "id": "7JZ5H3oX5_T8"
      },
      "source": [
        "df.drop('client_cart_last_order_day_date', axis=1, inplace=True)"
      ],
      "execution_count": 25,
      "outputs": []
    },
    {
      "cell_type": "code",
      "metadata": {
        "id": "N3I7AVlFqZAi"
      },
      "source": [
        "# Генерирую категориальный признак, сезон, когда был совершен заказ\n",
        "df['order_season_cat'] = df['order_completed_at']\\\n",
        "                          .apply(lambda x: 'winter' if  x.month < 3 else \n",
        "                                           'spring' if x.month < 6 else \n",
        "                                           'summer' if x.month < 9 else \n",
        "                                           'autumn' if x.month < 12 else \n",
        "                                           'winter')"
      ],
      "execution_count": 26,
      "outputs": []
    },
    {
      "cell_type": "code",
      "metadata": {
        "id": "tgUINRU-uvLk"
      },
      "source": [
        "# Генерирую месяц+год соверщения заказа\n",
        "df['order_month_int'] = df['order_completed_at'].apply(lambda x: year_month(x))"
      ],
      "execution_count": 27,
      "outputs": []
    },
    {
      "cell_type": "code",
      "metadata": {
        "id": "c4WwpmuGvmi3"
      },
      "source": [
        "# Генерирую час, в который был совершен заказ\n",
        "df['order_hour_int'] = df['order_completed_at'].apply(lambda x: x.hour)"
      ],
      "execution_count": 28,
      "outputs": []
    },
    {
      "cell_type": "code",
      "metadata": {
        "colab": {
          "base_uri": "https://localhost:8080/",
          "height": 520
        },
        "id": "iqKIOgxSxC8Q",
        "outputId": "3a0f3327-727f-4e20-fda2-4f801c6de290"
      },
      "source": [
        "# Смотрим, сколько заказов было сделано в каждом час\n",
        "plt.figure(figsize=(15,8))\n",
        "sns.set_theme(style=\"darkgrid\")\n",
        "sns.countplot(x='order_hour_int', data=df[df['target']==1])"
      ],
      "execution_count": 29,
      "outputs": [
        {
          "output_type": "execute_result",
          "data": {
            "text/plain": [
              "<matplotlib.axes._subplots.AxesSubplot at 0x7fed9061d350>"
            ]
          },
          "metadata": {},
          "execution_count": 29
        },
        {
          "output_type": "display_data",
          "data": {
            "image/png": "[encoded data removed]",
            "text/plain": [
              "<Figure size 1080x576 with 1 Axes>"
            ]
          },
          "metadata": {}
        }
      ]
    },
    {
      "cell_type": "code",
      "metadata": {
        "id": "NCkgkSnqw0dN"
      },
      "source": [
        "# Генерирую бинарный признак, заказ был совершен утром или нет\n",
        "df['order_is_morning'] = df['order_hour_int']\\\n",
        "                         .apply(lambda x: 1 if x < 11 else 0)"
      ],
      "execution_count": 30,
      "outputs": []
    },
    {
      "cell_type": "code",
      "metadata": {
        "id": "G4PB0EDutFSm"
      },
      "source": [
        "# Генерирую месяц + год, когда первый раз заказали категорию\n",
        "# Дату, когда клиент в первый раз заказал категорию и когда последний раз оставлю, но переименую, в будущем пригодится\n",
        "\n",
        "df['client_cart_first_order_day_int'] = df['client_cart_first_order_day_date']\\\n",
        "                                        .apply(lambda x: year_month(x))"
      ],
      "execution_count": 31,
      "outputs": []
    },
    {
      "cell_type": "code",
      "metadata": {
        "id": "dFwWrRPk5vmy"
      },
      "source": [
        "# Генерирую день недели, когда был совершен заказ\n",
        "df['order_weekday_cat'] = df['order_completed_at']\\\n",
        "                          .apply(lambda x: x.weekday())"
      ],
      "execution_count": 32,
      "outputs": []
    },
    {
      "cell_type": "code",
      "metadata": {
        "id": "AR4y_vC0-rDr"
      },
      "source": [
        "df['order_is_weekend'] = df['order_weekday_cat'].apply(lambda x: 1 if x == 5 else \n",
        "                                                                 1 if x == 6 else \n",
        "                                                                 0)"
      ],
      "execution_count": 33,
      "outputs": []
    },
    {
      "cell_type": "code",
      "metadata": {
        "id": "nxgEarQlb3g6",
        "colab": {
          "base_uri": "https://localhost:8080/",
          "height": 531
        },
        "outputId": "4a0a5c65-4af0-4309-f0b1-5b02c80980bb"
      },
      "source": [
        "# Смотрим, сколько заказов было сделано в зависимости от дня недели \n",
        "plt.figure(figsize=(15,8))\n",
        "sns.set_theme(style=\"darkgrid\")\n",
        "sns.countplot(x = 'order_weekday_cat', data = df, hue = 'target')"
      ],
      "execution_count": 34,
      "outputs": [
        {
          "output_type": "execute_result",
          "data": {
            "text/plain": [
              "<matplotlib.axes._subplots.AxesSubplot at 0x7fedc38c22d0>"
            ]
          },
          "metadata": {},
          "execution_count": 34
        },
        {
          "output_type": "display_data",
          "data": {
            "image/png": "[encoded data removed]",
            "text/plain": [
              "<Figure size 1080x576 with 1 Axes>"
            ]
          },
          "metadata": {}
        }
      ]
    },
    {
      "cell_type": "code",
      "metadata": {
        "id": "6PfwAScuiTI3"
      },
      "source": [
        "# Делаю атрибут, является ли день заказа предпраздничным днем или праздником, беру только крупные праздники, когда люди особенно сильно закупаются\n",
        "rus_holidays = [1230, 1231, 107, 222, 223, 307, 308, 430, 501, 508, 509]\n",
        "\n",
        "df['order_is_holiday'] = df['order_completed_at'].apply(lambda x: 1 if (100 * x.month + x.day) in rus_holidays else 0)"
      ],
      "execution_count": 35,
      "outputs": []
    },
    {
      "cell_type": "code",
      "metadata": {
        "id": "iD2DwuX32PL5"
      },
      "source": [
        "df['test_flag'] = df['target'].apply(lambda x: 1 if x != x else 0)"
      ],
      "execution_count": 36,
      "outputs": []
    },
    {
      "cell_type": "markdown",
      "metadata": {
        "id": "7ZluF0yo-KKC"
      },
      "source": [
        "## 2.2 Более сложные признаки\n",
        "___\n",
        "1. **client_num_of_order** - Инфа, сколько клиент сделал заказов до даты заказа, считаем с первого заказа категории\n",
        "1. **client_cart_num_of_order** - Инфа, сколько клиент сделал заказов категории до даты заказа, считаем с первого заказа категории\n",
        "1. **lag_target** - Делал клиент заказ этой категории в прошлый раз?\n",
        "1. **lag2_target** - Делал клиент заказ этой категории в позапрошлый раз?\n",
        "1. **client_cart_ratio** - Сколько раз клиент заказывал категорию с первого заказа категории до даты очередного заказа\n",
        "1. **client_cart_1d_qnt** - Сколько клиент покупал категорию за день в среднем за весь период с даты первого заказа категории по дату предыдущего заказа\n",
        "1. **cart_qnt_in_prev_order** - Сколько cart клиент купил в предыдущем заказе\n",
        "1. **is_small_prev_order** - Предыдущий заказ был маленький? (было заказано 1 - 3 категории)\n",
        "1. **client_cart_1d_qnt** - Сколько клиент покупал категорию за день в среднем за весь период с даты первого заказа категории по дату предыдущего заказа\n",
        "1. **mean_size_order** - Средний размер заказа за все время до даты очередного заказа\n",
        "1. **orders_per_day** - Сколько клиент делал заказов в день = Количество заказов до даты очередного заказа / период с первого заказа категории до предыдущего заказа\n",
        "1. **is_cart_out** - 1, если категорию не заказывали более чем пол месяца"
      ]
    },
    {
      "cell_type": "code",
      "metadata": {
        "id": "ySXbfgCc9arr"
      },
      "source": [
        "# Инфа, покупал ли клиент товар в прошлый раз\n",
        "df['lag_target'] = df.sort_values('order_completed_at', ascending=True).groupby(['user_id','cart'])['target'].shift(1).fillna(0).astype(int)\n",
        "df['lag2_target'] = df.sort_values('order_completed_at', ascending=True).groupby(['user_id','cart'])['target'].shift(2).fillna(0).astype(int)\n",
        "df['lag3_target'] = df.sort_values('order_completed_at', ascending=True).groupby(['user_id','cart'])['target'].shift(3).fillna(0).astype(int)"
      ],
      "execution_count": 37,
      "outputs": []
    },
    {
      "cell_type": "code",
      "metadata": {
        "id": "6BojMJcQ9auO"
      },
      "source": [
        "# Инфа, сколько клиент сделал заказов до даты заказа, считаем с первого закака категории\n",
        "df['client_num_of_order'] = df\\\n",
        "                                .sort_values(['order_completed_at'], ascending=True)\\\n",
        "                                .groupby(['user_id','cart']).cumcount().astype(int)"
      ],
      "execution_count": 38,
      "outputs": []
    },
    {
      "cell_type": "code",
      "metadata": {
        "id": "ps1pt7eq_W_s"
      },
      "source": [
        "# Инфа, сколько клиент заказывал категорию до даты заказа, считаем с первого казака категории\n",
        "df['client_cart_num_of_order'] = df\\\n",
        "                                .sort_values(['order_completed_at'], ascending=True)\\\n",
        "                                .groupby(['user_id','cart'])['target'].apply(lambda x: x.shift().fillna(0).cumsum().astype(int))"
      ],
      "execution_count": 39,
      "outputs": []
    },
    {
      "cell_type": "code",
      "metadata": {
        "id": "vUou-Il-_XMB"
      },
      "source": [
        "# Отношение \"сколько раз клиент купил категорию\" к \"сколько раз клиент делал заказ с пдаты первого заказа категории\" \n",
        "df['client_cart_ratio'] = (df['client_cart_num_of_order'] / df['client_num_of_order']).fillna(0).round(4)"
      ],
      "execution_count": 40,
      "outputs": []
    },
    {
      "cell_type": "code",
      "metadata": {
        "id": "bFZrwjDk2PGo"
      },
      "source": [
        "# Сколько клиент покупал категорию за год в среднем за весь период с даты первого заказа категории по дату предыдущего заказа\n",
        "df['client_cart_1y_qnt'] = (df['client_cart_num_of_order'] / df['client_cart_period'] * 365).fillna(0).round(4)\n",
        "df.replace([np.inf, -np.inf], 0, inplace=True)"
      ],
      "execution_count": 41,
      "outputs": []
    },
    {
      "cell_type": "code",
      "metadata": {
        "id": "S_3cJClK2O-s"
      },
      "source": [
        "# Сколько cart клиент купил в предыдущем заказе\n",
        "df1 = df.groupby(['user_id','order_completed_at'],as_index=False)['target']\\\n",
        "        .apply(lambda x: sum(x))\\\n",
        "        .rename(columns={'target':'cart_qnt_in_prev_order'})\n",
        "df1['cart_qnt_in_prev_order'] =  df1.sort_values('order_completed_at', ascending=True).groupby('user_id')['cart_qnt_in_prev_order'].shift(1).fillna(0).astype(int)\n",
        "\n",
        "df = df.merge(df1,\n",
        "         how='inner',\n",
        "         on=['user_id','order_completed_at'])"
      ],
      "execution_count": 42,
      "outputs": []
    },
    {
      "cell_type": "code",
      "metadata": {
        "id": "IXPclZdKAfoy"
      },
      "source": [
        "df['lag_cart_qnt_in_prev_order'] = df.sort_values('order_completed_at', ascending=True).groupby(['user_id','cart'])['cart_qnt_in_prev_order'].shift(1).fillna(0).astype(int)"
      ],
      "execution_count": 43,
      "outputs": []
    },
    {
      "cell_type": "code",
      "metadata": {
        "id": "bX4qyhCLAusH"
      },
      "source": [
        "# Делаю атрибут, что предыдущий заказ был маленький (было заказано 1 - 3 категории)\n",
        "df['is_small_prev_order'] = df['cart_qnt_in_prev_order'].apply(lambda x: 1 if x < 4 else 0)\n",
        "df['lag_is_small_prev_order'] = df.sort_values('order_completed_at', ascending=True).groupby(['user_id','cart'])['is_small_prev_order'].shift(1).fillna(0).astype(int)"
      ],
      "execution_count": 44,
      "outputs": []
    },
    {
      "cell_type": "code",
      "metadata": {
        "id": "uyWfqyYoAuvH"
      },
      "source": [
        "# Средний размер заказа за все время до даты очередного заказа\n",
        "df['mean_size_order'] = (df\\\n",
        "                                .sort_values(['order_completed_at'], ascending=True)\\\n",
        "                                .groupby(['user_id','cart'])['cart_qnt_in_prev_order'].apply(lambda x: x.cumsum()) / df['client_num_of_order']).round(4)"
      ],
      "execution_count": 45,
      "outputs": []
    },
    {
      "cell_type": "code",
      "metadata": {
        "id": "cKMdSqIwAuxw"
      },
      "source": [
        "# Сколько клиент делал заказов в год = Количество заказов до даты очередного заказа / период с первого заказа категории до предыдущего заказа\n",
        "df['orders_per_year'] = (df['client_num_of_order'] / df['client_cart_period'] * 365).round(5)"
      ],
      "execution_count": 46,
      "outputs": []
    },
    {
      "cell_type": "code",
      "metadata": {
        "id": "PDNSsOG3Af0B"
      },
      "source": [
        "# Флаг что категории нет, 1 если категорию никто не заказывал более полумесяца, иначе 0\n",
        "df = df.merge(df.loc[df['target'].isna() == False, :]\\\n",
        "           .groupby('cart')\\\n",
        "           .agg(is_cart_out = pd.NamedAgg(column = 'order_completed_at', aggfunc = 'max'))['is_cart_out']\\\n",
        "           .apply(lambda x: 1 if x < pd.Timestamp(\"2020/08/18\") else 0), how='inner', on=['cart'])"
      ],
      "execution_count": 47,
      "outputs": []
    },
    {
      "cell_type": "code",
      "metadata": {
        "id": "4R4u36i9DT3w"
      },
      "source": [
        "df = df\\\n",
        "                                          .merge(df.loc[(df['test_flag'] ==0) & (df['last_order_flag'] ==0), :]\\\n",
        "                                                .groupby(['user_id'])\\\n",
        "                                                .target.agg(['std','mean'])\\\n",
        "                                                .reset_index()\\\n",
        "                                                .fillna(0)\\\n",
        "                                                .rename(columns={'std':'client_std0','mean':'client_mean0'}),\n",
        "                                           how='inner',\n",
        "                                           on=['user_id'])"
      ],
      "execution_count": 48,
      "outputs": []
    },
    {
      "cell_type": "code",
      "metadata": {
        "id": "anFjXJu6XMiQ"
      },
      "source": [
        "df = df\\\n",
        "                                          .merge(df.loc[(df['test_flag'] != 1), :]\\\n",
        "                                                .groupby(['user_id'])\\\n",
        "                                                .target.agg(['std','mean'])\\\n",
        "                                                .reset_index()\\\n",
        "                                                .fillna(0)\\\n",
        "                                                .rename(columns={'std':'client_std1','mean':'client_mean1'}),\n",
        "                                           how='inner',\n",
        "                                           on=['user_id'])"
      ],
      "execution_count": 49,
      "outputs": []
    },
    {
      "cell_type": "code",
      "metadata": {
        "id": "vkOI1TGsgPF1"
      },
      "source": [
        "df = df\\\n",
        "                                          .merge(df.loc[(df['test_flag'] ==0) & (df['last_order_flag'] ==0), :]\\\n",
        "                                                .groupby(['cart'])\\\n",
        "                                                .target.agg(['std','mean'])\\\n",
        "                                                .reset_index()\\\n",
        "                                                .fillna(0)\\\n",
        "                                                .rename(columns={'std':'cart_std0','mean':'cart_mean0'}),\n",
        "                                           how='inner',\n",
        "                                           on=['cart'])"
      ],
      "execution_count": 50,
      "outputs": []
    },
    {
      "cell_type": "code",
      "metadata": {
        "id": "mpu-BcY9gPF-"
      },
      "source": [
        "df = df\\\n",
        "                                          .merge(df.loc[(df['test_flag'] != 1), :]\\\n",
        "                                                .groupby(['cart'])\\\n",
        "                                                .target.agg(['std','mean'])\\\n",
        "                                                .reset_index()\\\n",
        "                                                .fillna(0)\\\n",
        "                                                .rename(columns={'std':'cart_std1','mean':'cart_mean1'}),\n",
        "                                           how='inner',\n",
        "                                           on=['cart'])"
      ],
      "execution_count": 51,
      "outputs": []
    },
    {
      "cell_type": "code",
      "metadata": {
        "id": "lMvPxwoVgzVK"
      },
      "source": [
        "df = df\\\n",
        "                                          .merge(df.loc[(df['test_flag'] ==0) & (df['last_order_flag'] ==0), :]\\\n",
        "                                                .groupby(['cart','user_id'])\\\n",
        "                                                .target.agg(['std','mean'])\\\n",
        "                                                .reset_index()\\\n",
        "                                                .fillna(0)\\\n",
        "                                                .rename(columns={'std':'client_cart_std0','mean':'client_cart_mean0'}),\n",
        "                                           how='inner',\n",
        "                                           on=['cart','user_id'])"
      ],
      "execution_count": 52,
      "outputs": []
    },
    {
      "cell_type": "code",
      "metadata": {
        "id": "jjy5J_-xgzVL"
      },
      "source": [
        "df = df\\\n",
        "                                          .merge(df.loc[(df['test_flag'] != 1), :]\\\n",
        "                                                .groupby(['cart','user_id'])\\\n",
        "                                                .target.agg(['std','mean'])\\\n",
        "                                                .reset_index()\\\n",
        "                                                .fillna(0)\\\n",
        "                                                .rename(columns={'std':'client_cart_std1','mean':'client_cart_mean1'}),\n",
        "                                           how='inner',\n",
        "                                           on=['cart','user_id'])"
      ],
      "execution_count": 53,
      "outputs": []
    },
    {
      "cell_type": "code",
      "metadata": {
        "id": "lie4uww4LxKb"
      },
      "source": [
        "df['client_std'] = df['client_std0'] * df['last_order_flag'] + df['client_std1'] * df['test_flag']\n",
        "df['client_mean'] = df['client_mean0'] * df['last_order_flag'] + df['client_mean1'] * df['test_flag']\n",
        "df['cart_std'] = df['cart_std0'] * df['last_order_flag'] + df['cart_std1'] * df['test_flag']\n",
        "df['cart_mean'] = df['cart_mean0'] * df['last_order_flag'] + df['cart_mean1'] * df['test_flag']\n",
        "df['client_cart_std'] = df['client_cart_std0'] * df['last_order_flag'] + df['client_cart_std1'] * df['test_flag']\n",
        "df['client_cart_mean'] = df['client_cart_mean0'] * df['last_order_flag'] + df['client_cart_mean1'] * df['test_flag']"
      ],
      "execution_count": 55,
      "outputs": []
    },
    {
      "cell_type": "code",
      "metadata": {
        "id": "5v2gTlYVGvr_"
      },
      "source": [
        "df = df.drop(['client_cart_std0','client_cart_mean0','cart_std0','cart_mean0','client_std0','client_mean0'], axis=1)\n",
        "df = df.drop(['client_cart_std1','client_cart_mean1','cart_std1','cart_mean1','client_std1','client_mean1'], axis=1)"
      ],
      "execution_count": 57,
      "outputs": []
    },
    {
      "cell_type": "code",
      "metadata": {
        "id": "ORvhaqPptCS6"
      },
      "source": [
        "df.drop(['order_completed_at','client_cart_first_order_day_date'], axis = 1, inplace = True)"
      ],
      "execution_count": 58,
      "outputs": []
    },
    {
      "cell_type": "code",
      "metadata": {
        "id": "o3PeiNvVUBTL"
      },
      "source": [
        "df['client_cart_3ord_mean'] = (df['lag_target'] + df['lag2_target'] + df['lag3_target'] ) / 3\n",
        "df['is_in_all_3ord'] = df['client_cart_3ord_mean'].apply(lambda x: 1 if x == 1 else 0)"
      ],
      "execution_count": 69,
      "outputs": []
    },
    {
      "cell_type": "code",
      "metadata": {
        "id": "RmNENAw7UBaG"
      },
      "source": [
        "df['is_only_one_ord'] = df['client_cart_num_of_order'].apply(lambda x: 1 if x == 1 else 0)"
      ],
      "execution_count": 71,
      "outputs": []
    },
    {
      "cell_type": "code",
      "metadata": {
        "colab": {
          "base_uri": "https://localhost:8080/"
        },
        "id": "UQ8pTVw4TeIg",
        "outputId": "ded79d0c-0a0f-4e1a-e4d2-61c5ecba581a"
      },
      "source": [
        "train = df.loc[(df['last_order_flag'] == 1),:]\n",
        "train['target'] = train['target'].astype(int)"
      ],
      "execution_count": 90,
      "outputs": [
        {
          "output_type": "stream",
          "name": "stderr",
          "text": [
            "/usr/local/lib/python3.7/dist-packages/ipykernel_launcher.py:2: SettingWithCopyWarning: \n",
            "A value is trying to be set on a copy of a slice from a DataFrame.\n",
            "Try using .loc[row_indexer,col_indexer] = value instead\n",
            "\n",
            "See the caveats in the documentation: https://pandas.pydata.org/pandas-docs/stable/user_guide/indexing.html#returning-a-view-versus-a-copy\n",
            "  \n"
          ]
        }
      ]
    },
    {
      "cell_type": "code",
      "metadata": {
        "colab": {
          "base_uri": "https://localhost:8080/"
        },
        "id": "eHDZwDfwV2mK",
        "outputId": "dd8205d0-c0ed-47c1-f354-65f1dac47a5c"
      },
      "source": [
        "train.drop(['last_order_flag','client_cart_ratio', 'test_flag', 'order_is_holiday'], axis=1, inplace=True)"
      ],
      "execution_count": 91,
      "outputs": [
        {
          "output_type": "stream",
          "name": "stderr",
          "text": [
            "/usr/local/lib/python3.7/dist-packages/pandas/core/frame.py:4174: SettingWithCopyWarning: \n",
            "A value is trying to be set on a copy of a slice from a DataFrame\n",
            "\n",
            "See the caveats in the documentation: https://pandas.pydata.org/pandas-docs/stable/user_guide/indexing.html#returning-a-view-versus-a-copy\n",
            "  errors=errors,\n"
          ]
        }
      ]
    },
    {
      "cell_type": "code",
      "metadata": {
        "colab": {
          "base_uri": "https://localhost:8080/"
        },
        "id": "w1vUoX9Y2PJd",
        "outputId": "ab7ac34d-9df1-4daf-dc80-96e0eabf5327"
      },
      "source": [
        "valid = df[df['test_flag'] == 1]\n",
        "valid.drop(['target','last_order_flag','client_cart_ratio', 'test_flag', 'order_is_holiday'], axis = 1, inplace = True)"
      ],
      "execution_count": 92,
      "outputs": [
        {
          "output_type": "stream",
          "name": "stderr",
          "text": [
            "/usr/local/lib/python3.7/dist-packages/pandas/core/frame.py:4174: SettingWithCopyWarning: \n",
            "A value is trying to be set on a copy of a slice from a DataFrame\n",
            "\n",
            "See the caveats in the documentation: https://pandas.pydata.org/pandas-docs/stable/user_guide/indexing.html#returning-a-view-versus-a-copy\n",
            "  errors=errors,\n"
          ]
        }
      ]
    },
    {
      "cell_type": "code",
      "metadata": {
        "colab": {
          "base_uri": "https://localhost:8080/"
        },
        "id": "fxgT_-JfT2UD",
        "outputId": "6a33bfa9-4983-4f58-9b1b-6318c7ac379c"
      },
      "source": [
        "valid.shape, train.shape"
      ],
      "execution_count": 93,
      "outputs": [
        {
          "output_type": "execute_result",
          "data": {
            "text/plain": [
              "((1031269, 32), (1031269, 33))"
            ]
          },
          "metadata": {},
          "execution_count": 93
        }
      ]
    },
    {
      "cell_type": "code",
      "metadata": {
        "id": "tgOUCyoUWUEA"
      },
      "source": [
        "train.to_csv('prepared_train.csv')\n",
        "valid.to_csv('prepared_valid.csv')"
      ],
      "execution_count": 94,
      "outputs": []
    },
    {
      "cell_type": "code",
      "metadata": {
        "colab": {
          "base_uri": "https://localhost:8080/",
          "height": 17
        },
        "id": "fndixMZBWaOQ",
        "outputId": "2f5df157-6551-4b18-e7bb-af191232a1a2"
      },
      "source": [
        "from google.colab import files\n",
        "files.download('prepared_train.csv')\n",
        "files.download('prepared_valid.csv')"
      ],
      "execution_count": 185,
      "outputs": [
        {
          "output_type": "display_data",
          "data": {
            "application/javascript": [
              "\n",
              "    async function download(id, filename, size) {\n",
              "      if (!google.colab.kernel.accessAllowed) {\n",
              "        return;\n",
              "      }\n",
              "      const div = document.createElement('div');\n",
              "      const label = document.createElement('label');\n",
              "      label.textContent = `Downloading \"${filename}\": `;\n",
              "      div.appendChild(label);\n",
              "      const progress = document.createElement('progress');\n",
              "      progress.max = size;\n",
              "      div.appendChild(progress);\n",
              "      document.body.appendChild(div);\n",
              "\n",
              "      const buffers = [];\n",
              "      let downloaded = 0;\n",
              "\n",
              "      const channel = await google.colab.kernel.comms.open(id);\n",
              "      // Send a message to notify the kernel that we're ready.\n",
              "      channel.send({})\n",
              "\n",
              "      for await (const message of channel.messages) {\n",
              "        // Send a message to notify the kernel that we're ready.\n",
              "        channel.send({})\n",
              "        if (message.buffers) {\n",
              "          for (const buffer of message.buffers) {\n",
              "            buffers.push(buffer);\n",
              "            downloaded += buffer.byteLength;\n",
              "            progress.value = downloaded;\n",
              "          }\n",
              "        }\n",
              "      }\n",
              "      const blob = new Blob(buffers, {type: 'application/binary'});\n",
              "      const a = document.createElement('a');\n",
              "      a.href = window.URL.createObjectURL(blob);\n",
              "      a.download = filename;\n",
              "      div.appendChild(a);\n",
              "      a.click();\n",
              "      div.remove();\n",
              "    }\n",
              "  "
            ],
            "text/plain": [
              "<IPython.core.display.Javascript object>"
            ]
          },
          "metadata": {}
        },
        {
          "output_type": "display_data",
          "data": {
            "application/javascript": [
              "download(\"download_e810077d-e489-41dc-b37a-9ac068de082b\", \"prepared_train.csv\", 223177175)"
            ],
            "text/plain": [
              "<IPython.core.display.Javascript object>"
            ]
          },
          "metadata": {}
        },
        {
          "output_type": "display_data",
          "data": {
            "application/javascript": [
              "\n",
              "    async function download(id, filename, size) {\n",
              "      if (!google.colab.kernel.accessAllowed) {\n",
              "        return;\n",
              "      }\n",
              "      const div = document.createElement('div');\n",
              "      const label = document.createElement('label');\n",
              "      label.textContent = `Downloading \"${filename}\": `;\n",
              "      div.appendChild(label);\n",
              "      const progress = document.createElement('progress');\n",
              "      progress.max = size;\n",
              "      div.appendChild(progress);\n",
              "      document.body.appendChild(div);\n",
              "\n",
              "      const buffers = [];\n",
              "      let downloaded = 0;\n",
              "\n",
              "      const channel = await google.colab.kernel.comms.open(id);\n",
              "      // Send a message to notify the kernel that we're ready.\n",
              "      channel.send({})\n",
              "\n",
              "      for await (const message of channel.messages) {\n",
              "        // Send a message to notify the kernel that we're ready.\n",
              "        channel.send({})\n",
              "        if (message.buffers) {\n",
              "          for (const buffer of message.buffers) {\n",
              "            buffers.push(buffer);\n",
              "            downloaded += buffer.byteLength;\n",
              "            progress.value = downloaded;\n",
              "          }\n",
              "        }\n",
              "      }\n",
              "      const blob = new Blob(buffers, {type: 'application/binary'});\n",
              "      const a = document.createElement('a');\n",
              "      a.href = window.URL.createObjectURL(blob);\n",
              "      a.download = filename;\n",
              "      div.appendChild(a);\n",
              "      a.click();\n",
              "      div.remove();\n",
              "    }\n",
              "  "
            ],
            "text/plain": [
              "<IPython.core.display.Javascript object>"
            ]
          },
          "metadata": {}
        },
        {
          "output_type": "display_data",
          "data": {
            "application/javascript": [
              "download(\"download_572f0b0c-44d2-4615-aa9d-af3b69a92543\", \"prepared_valid.csv\", 223134932)"
            ],
            "text/plain": [
              "<IPython.core.display.Javascript object>"
            ]
          },
          "metadata": {}
        }
      ]
    },
    {
      "cell_type": "code",
      "metadata": {
        "colab": {
          "base_uri": "https://localhost:8080/",
          "height": 35
        },
        "id": "4spPnNgiX6fE",
        "outputId": "250b25b9-0867-4856-f704-dce5494ef691"
      },
      "source": [
        "files.download('prepared_valid.csv')"
      ],
      "execution_count": 96,
      "outputs": [
        {
          "output_type": "display_data",
          "data": {
            "application/javascript": [
              "\n",
              "    async function download(id, filename, size) {\n",
              "      if (!google.colab.kernel.accessAllowed) {\n",
              "        return;\n",
              "      }\n",
              "      const div = document.createElement('div');\n",
              "      const label = document.createElement('label');\n",
              "      label.textContent = `Downloading \"${filename}\": `;\n",
              "      div.appendChild(label);\n",
              "      const progress = document.createElement('progress');\n",
              "      progress.max = size;\n",
              "      div.appendChild(progress);\n",
              "      document.body.appendChild(div);\n",
              "\n",
              "      const buffers = [];\n",
              "      let downloaded = 0;\n",
              "\n",
              "      const channel = await google.colab.kernel.comms.open(id);\n",
              "      // Send a message to notify the kernel that we're ready.\n",
              "      channel.send({})\n",
              "\n",
              "      for await (const message of channel.messages) {\n",
              "        // Send a message to notify the kernel that we're ready.\n",
              "        channel.send({})\n",
              "        if (message.buffers) {\n",
              "          for (const buffer of message.buffers) {\n",
              "            buffers.push(buffer);\n",
              "            downloaded += buffer.byteLength;\n",
              "            progress.value = downloaded;\n",
              "          }\n",
              "        }\n",
              "      }\n",
              "      const blob = new Blob(buffers, {type: 'application/binary'});\n",
              "      const a = document.createElement('a');\n",
              "      a.href = window.URL.createObjectURL(blob);\n",
              "      a.download = filename;\n",
              "      div.appendChild(a);\n",
              "      a.click();\n",
              "      div.remove();\n",
              "    }\n",
              "  "
            ],
            "text/plain": [
              "<IPython.core.display.Javascript object>"
            ]
          },
          "metadata": {}
        },
        {
          "output_type": "display_data",
          "data": {
            "application/javascript": [
              "download(\"download_147b6b71-4bc2-42a3-a39c-adeec8a2dc13\", \"prepared_valid.csv\", 223134932)"
            ],
            "text/plain": [
              "<IPython.core.display.Javascript object>"
            ]
          },
          "metadata": {}
        }
      ]
    },
    {
      "cell_type": "markdown",
      "metadata": {
        "id": "Hlzu14jeiGC4"
      },
      "source": [
        "# 3. Визуализация"
      ]
    },
    {
      "cell_type": "code",
      "metadata": {
        "id": "L3TD8a07kcmi"
      },
      "source": [
        "#data = pd.read_csv(\"/content/drive/MyDrive/Colab Notebooks/Data/prepared_train.csv\")"
      ],
      "execution_count": 97,
      "outputs": []
    },
    {
      "cell_type": "code",
      "metadata": {
        "id": "GWuwrbQRkcuw"
      },
      "source": [
        "#test = pd.read_csv(\"/content/drive/MyDrive/Colab Notebooks/Data/prepared_valid.csv\")"
      ],
      "execution_count": 98,
      "outputs": []
    },
    {
      "cell_type": "code",
      "metadata": {
        "id": "7i9gCnRBYA9N"
      },
      "source": [
        "data = train\n",
        "test = valid"
      ],
      "execution_count": 99,
      "outputs": []
    },
    {
      "cell_type": "code",
      "metadata": {
        "id": "PNrr6i_vh9Sx",
        "colab": {
          "base_uri": "https://localhost:8080/",
          "height": 316
        },
        "outputId": "70602ae4-dc90-44ef-e4fb-c83b17a723ef"
      },
      "source": [
        "#data.drop('Unnamed: 0', axis = 1, inplace = True)\n",
        "data.replace([np.inf, -np.inf], 0, inplace=True)\n",
        "data.sample(5)"
      ],
      "execution_count": 108,
      "outputs": [
        {
          "output_type": "stream",
          "name": "stderr",
          "text": [
            "/usr/local/lib/python3.7/dist-packages/pandas/core/frame.py:4389: SettingWithCopyWarning: \n",
            "A value is trying to be set on a copy of a slice from a DataFrame\n",
            "\n",
            "See the caveats in the documentation: https://pandas.pydata.org/pandas-docs/stable/user_guide/indexing.html#returning-a-view-versus-a-copy\n",
            "  method=method,\n"
          ]
        },
        {
          "output_type": "execute_result",
          "data": {
            "text/html": [
              "<div>\n",
              "<style scoped>\n",
              "    .dataframe tbody tr th:only-of-type {\n",
              "        vertical-align: middle;\n",
              "    }\n",
              "\n",
              "    .dataframe tbody tr th {\n",
              "        vertical-align: top;\n",
              "    }\n",
              "\n",
              "    .dataframe thead th {\n",
              "        text-align: right;\n",
              "    }\n",
              "</style>\n",
              "<table border=\"1\" class=\"dataframe\">\n",
              "  <thead>\n",
              "    <tr style=\"text-align: right;\">\n",
              "      <th></th>\n",
              "      <th>user_id</th>\n",
              "      <th>cart</th>\n",
              "      <th>target</th>\n",
              "      <th>client_cart_period</th>\n",
              "      <th>order_season_cat</th>\n",
              "      <th>order_month_int</th>\n",
              "      <th>order_hour_int</th>\n",
              "      <th>order_is_morning</th>\n",
              "      <th>client_cart_first_order_day_int</th>\n",
              "      <th>order_weekday_cat</th>\n",
              "      <th>order_is_weekend</th>\n",
              "      <th>lag_target</th>\n",
              "      <th>lag2_target</th>\n",
              "      <th>lag3_target</th>\n",
              "      <th>client_num_of_order</th>\n",
              "      <th>client_cart_num_of_order</th>\n",
              "      <th>client_cart_1y_qnt</th>\n",
              "      <th>cart_qnt_in_prev_order</th>\n",
              "      <th>lag_cart_qnt_in_prev_order</th>\n",
              "      <th>is_small_prev_order</th>\n",
              "      <th>lag_is_small_prev_order</th>\n",
              "      <th>mean_size_order</th>\n",
              "      <th>orders_per_year</th>\n",
              "      <th>is_cart_out</th>\n",
              "      <th>client_std</th>\n",
              "      <th>client_mean</th>\n",
              "      <th>cart_std</th>\n",
              "      <th>cart_mean</th>\n",
              "      <th>client_cart_std</th>\n",
              "      <th>client_cart_mean</th>\n",
              "      <th>client_cart_3ord_mean</th>\n",
              "      <th>is_in_all_3ord</th>\n",
              "      <th>is_only_one_ord</th>\n",
              "    </tr>\n",
              "  </thead>\n",
              "  <tbody>\n",
              "    <tr>\n",
              "      <th>10453022</th>\n",
              "      <td>10288</td>\n",
              "      <td>11</td>\n",
              "      <td>0</td>\n",
              "      <td>60</td>\n",
              "      <td>summer</td>\n",
              "      <td>202008</td>\n",
              "      <td>9</td>\n",
              "      <td>1</td>\n",
              "      <td>202007</td>\n",
              "      <td>0</td>\n",
              "      <td>0</td>\n",
              "      <td>0</td>\n",
              "      <td>0</td>\n",
              "      <td>0</td>\n",
              "      <td>14</td>\n",
              "      <td>1</td>\n",
              "      <td>6.0833</td>\n",
              "      <td>13</td>\n",
              "      <td>13</td>\n",
              "      <td>0</td>\n",
              "      <td>0</td>\n",
              "      <td>11.0000</td>\n",
              "      <td>85.16667</td>\n",
              "      <td>0</td>\n",
              "      <td>0.369897</td>\n",
              "      <td>0.163495</td>\n",
              "      <td>0.437932</td>\n",
              "      <td>0.258713</td>\n",
              "      <td>0.267261</td>\n",
              "      <td>0.071429</td>\n",
              "      <td>0.000000</td>\n",
              "      <td>0</td>\n",
              "      <td>1</td>\n",
              "    </tr>\n",
              "    <tr>\n",
              "      <th>12331935</th>\n",
              "      <td>17592</td>\n",
              "      <td>106</td>\n",
              "      <td>0</td>\n",
              "      <td>66</td>\n",
              "      <td>summer</td>\n",
              "      <td>202008</td>\n",
              "      <td>6</td>\n",
              "      <td>1</td>\n",
              "      <td>202006</td>\n",
              "      <td>0</td>\n",
              "      <td>0</td>\n",
              "      <td>0</td>\n",
              "      <td>0</td>\n",
              "      <td>0</td>\n",
              "      <td>5</td>\n",
              "      <td>1</td>\n",
              "      <td>5.5303</td>\n",
              "      <td>16</td>\n",
              "      <td>15</td>\n",
              "      <td>0</td>\n",
              "      <td>0</td>\n",
              "      <td>15.2000</td>\n",
              "      <td>27.65152</td>\n",
              "      <td>0</td>\n",
              "      <td>0.501631</td>\n",
              "      <td>0.496732</td>\n",
              "      <td>0.324391</td>\n",
              "      <td>0.119500</td>\n",
              "      <td>0.447214</td>\n",
              "      <td>0.200000</td>\n",
              "      <td>0.000000</td>\n",
              "      <td>0</td>\n",
              "      <td>1</td>\n",
              "    </tr>\n",
              "    <tr>\n",
              "      <th>3726425</th>\n",
              "      <td>3458</td>\n",
              "      <td>798</td>\n",
              "      <td>0</td>\n",
              "      <td>277</td>\n",
              "      <td>autumn</td>\n",
              "      <td>202009</td>\n",
              "      <td>8</td>\n",
              "      <td>1</td>\n",
              "      <td>201911</td>\n",
              "      <td>2</td>\n",
              "      <td>0</td>\n",
              "      <td>0</td>\n",
              "      <td>0</td>\n",
              "      <td>0</td>\n",
              "      <td>73</td>\n",
              "      <td>6</td>\n",
              "      <td>7.9061</td>\n",
              "      <td>24</td>\n",
              "      <td>11</td>\n",
              "      <td>0</td>\n",
              "      <td>0</td>\n",
              "      <td>17.9041</td>\n",
              "      <td>96.19134</td>\n",
              "      <td>0</td>\n",
              "      <td>0.321680</td>\n",
              "      <td>0.117207</td>\n",
              "      <td>0.410607</td>\n",
              "      <td>0.214686</td>\n",
              "      <td>0.276557</td>\n",
              "      <td>0.082192</td>\n",
              "      <td>0.000000</td>\n",
              "      <td>0</td>\n",
              "      <td>0</td>\n",
              "    </tr>\n",
              "    <tr>\n",
              "      <th>1764274</th>\n",
              "      <td>2020</td>\n",
              "      <td>5</td>\n",
              "      <td>0</td>\n",
              "      <td>341</td>\n",
              "      <td>autumn</td>\n",
              "      <td>202009</td>\n",
              "      <td>7</td>\n",
              "      <td>1</td>\n",
              "      <td>201909</td>\n",
              "      <td>2</td>\n",
              "      <td>0</td>\n",
              "      <td>0</td>\n",
              "      <td>0</td>\n",
              "      <td>0</td>\n",
              "      <td>55</td>\n",
              "      <td>4</td>\n",
              "      <td>4.2815</td>\n",
              "      <td>23</td>\n",
              "      <td>16</td>\n",
              "      <td>0</td>\n",
              "      <td>0</td>\n",
              "      <td>20.6727</td>\n",
              "      <td>58.87097</td>\n",
              "      <td>0</td>\n",
              "      <td>0.371737</td>\n",
              "      <td>0.165590</td>\n",
              "      <td>0.431466</td>\n",
              "      <td>0.247337</td>\n",
              "      <td>0.262082</td>\n",
              "      <td>0.072727</td>\n",
              "      <td>0.000000</td>\n",
              "      <td>0</td>\n",
              "      <td>0</td>\n",
              "    </tr>\n",
              "    <tr>\n",
              "      <th>2468568</th>\n",
              "      <td>18820</td>\n",
              "      <td>409</td>\n",
              "      <td>1</td>\n",
              "      <td>40</td>\n",
              "      <td>autumn</td>\n",
              "      <td>202009</td>\n",
              "      <td>6</td>\n",
              "      <td>1</td>\n",
              "      <td>202007</td>\n",
              "      <td>2</td>\n",
              "      <td>0</td>\n",
              "      <td>1</td>\n",
              "      <td>1</td>\n",
              "      <td>0</td>\n",
              "      <td>2</td>\n",
              "      <td>2</td>\n",
              "      <td>18.2500</td>\n",
              "      <td>8</td>\n",
              "      <td>14</td>\n",
              "      <td>0</td>\n",
              "      <td>0</td>\n",
              "      <td>17.0000</td>\n",
              "      <td>18.25000</td>\n",
              "      <td>0</td>\n",
              "      <td>0.502426</td>\n",
              "      <td>0.539683</td>\n",
              "      <td>0.496592</td>\n",
              "      <td>0.441702</td>\n",
              "      <td>0.000000</td>\n",
              "      <td>1.000000</td>\n",
              "      <td>0.666667</td>\n",
              "      <td>0</td>\n",
              "      <td>0</td>\n",
              "    </tr>\n",
              "  </tbody>\n",
              "</table>\n",
              "</div>"
            ],
            "text/plain": [
              "          user_id  cart  ...  is_in_all_3ord  is_only_one_ord\n",
              "10453022    10288    11  ...               0                1\n",
              "12331935    17592   106  ...               0                1\n",
              "3726425      3458   798  ...               0                0\n",
              "1764274      2020     5  ...               0                0\n",
              "2468568     18820   409  ...               0                0\n",
              "\n",
              "[5 rows x 33 columns]"
            ]
          },
          "metadata": {},
          "execution_count": 108
        }
      ]
    },
    {
      "cell_type": "code",
      "metadata": {
        "id": "_MtjMkLFiLP_",
        "colab": {
          "base_uri": "https://localhost:8080/"
        },
        "outputId": "11702c5d-4e6b-4b2c-88c8-267b219b16fb"
      },
      "source": [
        "#test.drop('Unnamed: 0', axis = 1, inplace = True)\n",
        "test.replace([np.inf, -np.inf], 0, inplace=True)"
      ],
      "execution_count": 109,
      "outputs": [
        {
          "output_type": "stream",
          "name": "stderr",
          "text": [
            "/usr/local/lib/python3.7/dist-packages/pandas/core/frame.py:4389: SettingWithCopyWarning: \n",
            "A value is trying to be set on a copy of a slice from a DataFrame\n",
            "\n",
            "See the caveats in the documentation: https://pandas.pydata.org/pandas-docs/stable/user_guide/indexing.html#returning-a-view-versus-a-copy\n",
            "  method=method,\n"
          ]
        }
      ]
    },
    {
      "cell_type": "code",
      "metadata": {
        "id": "-PMAArnxiLTE"
      },
      "source": [
        "# Числовые признаки 18шт\n",
        "num_cols1 = [\n",
        "    'client_cart_period',\n",
        "    'lag_target',\n",
        "    'lag2_target',\n",
        "    'lag3_target',\n",
        "    'client_num_of_order',\n",
        "    'client_cart_num_of_order',\n",
        "    'client_cart_1y_qnt',\n",
        "    'cart_qnt_in_prev_order',\n",
        "    'lag_cart_qnt_in_prev_order',\n",
        "    'mean_size_order',\n",
        "    'orders_per_year',\n",
        "    'client_std',\n",
        "    'client_mean',\n",
        "    'cart_std',\n",
        "    'cart_mean',\n",
        "    'client_cart_std',\n",
        "    'client_cart_mean',\n",
        "    'client_cart_3ord_mean'\n",
        "\n",
        "]\n",
        "\n",
        "# Категориальные признаки 14шт\n",
        "cat_cols1 = [\n",
        "    'user_id',\n",
        "    'cart',\n",
        "    'order_season_cat',\n",
        "    'order_month_int',\n",
        "    'order_hour_int',\n",
        "    'order_is_morning',\n",
        "    'client_cart_first_order_day_int',\n",
        "    'order_weekday_cat',\n",
        "    'order_is_weekend',\n",
        "    #'order_is_holiday',\n",
        "    'is_small_prev_order',\n",
        "    'lag_is_small_prev_order',\n",
        "    'is_cart_out',\n",
        "    'is_in_all_3ord',\n",
        "    'is_only_one_ord'\n",
        "]\n",
        "\n",
        "feature_cols = num_cols1 + cat_cols1\n",
        "target_col = 'target'"
      ],
      "execution_count": 110,
      "outputs": []
    },
    {
      "cell_type": "code",
      "metadata": {
        "colab": {
          "base_uri": "https://localhost:8080/"
        },
        "id": "M4oHAtOdiLV-",
        "outputId": "7ec8efae-b9ca-4475-8bd8-f65433590e70"
      },
      "source": [
        "data.isna().sum()"
      ],
      "execution_count": 111,
      "outputs": [
        {
          "output_type": "execute_result",
          "data": {
            "text/plain": [
              "user_id                            0\n",
              "cart                               0\n",
              "target                             0\n",
              "client_cart_period                 0\n",
              "order_season_cat                   0\n",
              "order_month_int                    0\n",
              "order_hour_int                     0\n",
              "order_is_morning                   0\n",
              "client_cart_first_order_day_int    0\n",
              "order_weekday_cat                  0\n",
              "order_is_weekend                   0\n",
              "lag_target                         0\n",
              "lag2_target                        0\n",
              "lag3_target                        0\n",
              "client_num_of_order                0\n",
              "client_cart_num_of_order           0\n",
              "client_cart_1y_qnt                 0\n",
              "cart_qnt_in_prev_order             0\n",
              "lag_cart_qnt_in_prev_order         0\n",
              "is_small_prev_order                0\n",
              "lag_is_small_prev_order            0\n",
              "mean_size_order                    0\n",
              "orders_per_year                    0\n",
              "is_cart_out                        0\n",
              "client_std                         0\n",
              "client_mean                        0\n",
              "cart_std                           0\n",
              "cart_mean                          0\n",
              "client_cart_std                    0\n",
              "client_cart_mean                   0\n",
              "client_cart_3ord_mean              0\n",
              "is_in_all_3ord                     0\n",
              "is_only_one_ord                    0\n",
              "dtype: int64"
            ]
          },
          "metadata": {},
          "execution_count": 111
        }
      ]
    },
    {
      "cell_type": "code",
      "metadata": {
        "colab": {
          "base_uri": "https://localhost:8080/"
        },
        "id": "sY1wLPhUiLY1",
        "outputId": "eb0d80bd-e114-4c14-d4bc-f859bb584fa7"
      },
      "source": [
        "test.isna().sum()"
      ],
      "execution_count": 112,
      "outputs": [
        {
          "output_type": "execute_result",
          "data": {
            "text/plain": [
              "user_id                            0\n",
              "cart                               0\n",
              "client_cart_period                 0\n",
              "order_season_cat                   0\n",
              "order_month_int                    0\n",
              "order_hour_int                     0\n",
              "order_is_morning                   0\n",
              "client_cart_first_order_day_int    0\n",
              "order_weekday_cat                  0\n",
              "order_is_weekend                   0\n",
              "lag_target                         0\n",
              "lag2_target                        0\n",
              "lag3_target                        0\n",
              "client_num_of_order                0\n",
              "client_cart_num_of_order           0\n",
              "client_cart_1y_qnt                 0\n",
              "cart_qnt_in_prev_order             0\n",
              "lag_cart_qnt_in_prev_order         0\n",
              "is_small_prev_order                0\n",
              "lag_is_small_prev_order            0\n",
              "mean_size_order                    0\n",
              "orders_per_year                    0\n",
              "is_cart_out                        0\n",
              "client_std                         0\n",
              "client_mean                        0\n",
              "cart_std                           0\n",
              "cart_mean                          0\n",
              "client_cart_std                    0\n",
              "client_cart_mean                   0\n",
              "client_cart_3ord_mean              0\n",
              "is_in_all_3ord                     0\n",
              "is_only_one_ord                    0\n",
              "dtype: int64"
            ]
          },
          "metadata": {},
          "execution_count": 112
        }
      ]
    },
    {
      "cell_type": "code",
      "metadata": {
        "colab": {
          "base_uri": "https://localhost:8080/",
          "height": 319
        },
        "id": "Ki75F1XaidfH",
        "outputId": "c9c43914-def4-457e-a4a0-e014c580c0b1"
      },
      "source": [
        "data.describe()"
      ],
      "execution_count": 113,
      "outputs": [
        {
          "output_type": "execute_result",
          "data": {
            "text/html": [
              "<div>\n",
              "<style scoped>\n",
              "    .dataframe tbody tr th:only-of-type {\n",
              "        vertical-align: middle;\n",
              "    }\n",
              "\n",
              "    .dataframe tbody tr th {\n",
              "        vertical-align: top;\n",
              "    }\n",
              "\n",
              "    .dataframe thead th {\n",
              "        text-align: right;\n",
              "    }\n",
              "</style>\n",
              "<table border=\"1\" class=\"dataframe\">\n",
              "  <thead>\n",
              "    <tr style=\"text-align: right;\">\n",
              "      <th></th>\n",
              "      <th>user_id</th>\n",
              "      <th>cart</th>\n",
              "      <th>target</th>\n",
              "      <th>client_cart_period</th>\n",
              "      <th>order_month_int</th>\n",
              "      <th>order_hour_int</th>\n",
              "      <th>order_is_morning</th>\n",
              "      <th>client_cart_first_order_day_int</th>\n",
              "      <th>order_weekday_cat</th>\n",
              "      <th>order_is_weekend</th>\n",
              "      <th>lag_target</th>\n",
              "      <th>lag2_target</th>\n",
              "      <th>lag3_target</th>\n",
              "      <th>client_num_of_order</th>\n",
              "      <th>client_cart_num_of_order</th>\n",
              "      <th>client_cart_1y_qnt</th>\n",
              "      <th>cart_qnt_in_prev_order</th>\n",
              "      <th>lag_cart_qnt_in_prev_order</th>\n",
              "      <th>is_small_prev_order</th>\n",
              "      <th>lag_is_small_prev_order</th>\n",
              "      <th>mean_size_order</th>\n",
              "      <th>orders_per_year</th>\n",
              "      <th>is_cart_out</th>\n",
              "      <th>client_std</th>\n",
              "      <th>client_mean</th>\n",
              "      <th>cart_std</th>\n",
              "      <th>cart_mean</th>\n",
              "      <th>client_cart_std</th>\n",
              "      <th>client_cart_mean</th>\n",
              "      <th>client_cart_3ord_mean</th>\n",
              "      <th>is_in_all_3ord</th>\n",
              "      <th>is_only_one_ord</th>\n",
              "    </tr>\n",
              "  </thead>\n",
              "  <tbody>\n",
              "    <tr>\n",
              "      <th>count</th>\n",
              "      <td>1.031269e+06</td>\n",
              "      <td>1.031269e+06</td>\n",
              "      <td>1.031269e+06</td>\n",
              "      <td>1.031269e+06</td>\n",
              "      <td>1.031269e+06</td>\n",
              "      <td>1.031269e+06</td>\n",
              "      <td>1.031269e+06</td>\n",
              "      <td>1.031269e+06</td>\n",
              "      <td>1.031269e+06</td>\n",
              "      <td>1.031269e+06</td>\n",
              "      <td>1.031269e+06</td>\n",
              "      <td>1.031269e+06</td>\n",
              "      <td>1.031269e+06</td>\n",
              "      <td>1.031269e+06</td>\n",
              "      <td>1.031269e+06</td>\n",
              "      <td>1.031269e+06</td>\n",
              "      <td>1.031269e+06</td>\n",
              "      <td>1.031269e+06</td>\n",
              "      <td>1.031269e+06</td>\n",
              "      <td>1.031269e+06</td>\n",
              "      <td>1.031269e+06</td>\n",
              "      <td>1.031269e+06</td>\n",
              "      <td>1.031269e+06</td>\n",
              "      <td>1.031269e+06</td>\n",
              "      <td>1.031269e+06</td>\n",
              "      <td>1.031269e+06</td>\n",
              "      <td>1.031269e+06</td>\n",
              "      <td>1.031269e+06</td>\n",
              "      <td>1.031269e+06</td>\n",
              "      <td>1.031269e+06</td>\n",
              "      <td>1.031269e+06</td>\n",
              "      <td>1.031269e+06</td>\n",
              "    </tr>\n",
              "    <tr>\n",
              "      <th>mean</th>\n",
              "      <td>8.458662e+03</td>\n",
              "      <td>2.562189e+02</td>\n",
              "      <td>1.888411e-01</td>\n",
              "      <td>1.508068e+02</td>\n",
              "      <td>2.020078e+05</td>\n",
              "      <td>1.134838e+01</td>\n",
              "      <td>4.723055e-01</td>\n",
              "      <td>2.019777e+05</td>\n",
              "      <td>2.706970e+00</td>\n",
              "      <td>2.270601e-01</td>\n",
              "      <td>2.743183e-01</td>\n",
              "      <td>2.764012e-01</td>\n",
              "      <td>2.264802e-01</td>\n",
              "      <td>1.071907e+01</td>\n",
              "      <td>2.755815e+00</td>\n",
              "      <td>1.323739e+01</td>\n",
              "      <td>1.620929e+01</td>\n",
              "      <td>1.639766e+01</td>\n",
              "      <td>3.777482e-02</td>\n",
              "      <td>3.768852e-02</td>\n",
              "      <td>2.050205e+01</td>\n",
              "      <td>3.434735e+01</td>\n",
              "      <td>2.618134e-05</td>\n",
              "      <td>4.499096e-01</td>\n",
              "      <td>3.890038e-01</td>\n",
              "      <td>4.195890e-01</td>\n",
              "      <td>2.643013e-01</td>\n",
              "      <td>3.939185e-01</td>\n",
              "      <td>4.218635e-01</td>\n",
              "      <td>2.590666e-01</td>\n",
              "      <td>4.058301e-02</td>\n",
              "      <td>5.173131e-01</td>\n",
              "    </tr>\n",
              "    <tr>\n",
              "      <th>std</th>\n",
              "      <td>5.569852e+03</td>\n",
              "      <td>2.210642e+02</td>\n",
              "      <td>3.913826e-01</td>\n",
              "      <td>1.436502e+02</td>\n",
              "      <td>8.416207e-01</td>\n",
              "      <td>4.899959e+00</td>\n",
              "      <td>4.992327e-01</td>\n",
              "      <td>4.852780e+01</td>\n",
              "      <td>1.913878e+00</td>\n",
              "      <td>4.189319e-01</td>\n",
              "      <td>4.461704e-01</td>\n",
              "      <td>4.472178e-01</td>\n",
              "      <td>4.185536e-01</td>\n",
              "      <td>1.360052e+01</td>\n",
              "      <td>3.930213e+00</td>\n",
              "      <td>2.461670e+01</td>\n",
              "      <td>9.204277e+00</td>\n",
              "      <td>9.354721e+00</td>\n",
              "      <td>1.906513e-01</td>\n",
              "      <td>1.904419e-01</td>\n",
              "      <td>1.015233e+01</td>\n",
              "      <td>3.923329e+01</td>\n",
              "      <td>5.116706e-03</td>\n",
              "      <td>5.204676e-02</td>\n",
              "      <td>1.839128e-01</td>\n",
              "      <td>5.821332e-02</td>\n",
              "      <td>1.225605e-01</td>\n",
              "      <td>2.096392e-01</td>\n",
              "      <td>3.088826e-01</td>\n",
              "      <td>2.711774e-01</td>\n",
              "      <td>1.973222e-01</td>\n",
              "      <td>4.997004e-01</td>\n",
              "    </tr>\n",
              "    <tr>\n",
              "      <th>min</th>\n",
              "      <td>0.000000e+00</td>\n",
              "      <td>0.000000e+00</td>\n",
              "      <td>0.000000e+00</td>\n",
              "      <td>0.000000e+00</td>\n",
              "      <td>2.020060e+05</td>\n",
              "      <td>0.000000e+00</td>\n",
              "      <td>0.000000e+00</td>\n",
              "      <td>2.015030e+05</td>\n",
              "      <td>0.000000e+00</td>\n",
              "      <td>0.000000e+00</td>\n",
              "      <td>0.000000e+00</td>\n",
              "      <td>0.000000e+00</td>\n",
              "      <td>0.000000e+00</td>\n",
              "      <td>1.000000e+00</td>\n",
              "      <td>1.000000e+00</td>\n",
              "      <td>0.000000e+00</td>\n",
              "      <td>1.000000e+00</td>\n",
              "      <td>1.000000e+00</td>\n",
              "      <td>0.000000e+00</td>\n",
              "      <td>0.000000e+00</td>\n",
              "      <td>1.000000e+00</td>\n",
              "      <td>0.000000e+00</td>\n",
              "      <td>0.000000e+00</td>\n",
              "      <td>0.000000e+00</td>\n",
              "      <td>5.668605e-02</td>\n",
              "      <td>0.000000e+00</td>\n",
              "      <td>1.111111e-02</td>\n",
              "      <td>0.000000e+00</td>\n",
              "      <td>4.716981e-03</td>\n",
              "      <td>0.000000e+00</td>\n",
              "      <td>0.000000e+00</td>\n",
              "      <td>0.000000e+00</td>\n",
              "    </tr>\n",
              "    <tr>\n",
              "      <th>25%</th>\n",
              "      <td>3.668000e+03</td>\n",
              "      <td>5.700000e+01</td>\n",
              "      <td>0.000000e+00</td>\n",
              "      <td>4.800000e+01</td>\n",
              "      <td>2.020070e+05</td>\n",
              "      <td>8.000000e+00</td>\n",
              "      <td>0.000000e+00</td>\n",
              "      <td>2.019120e+05</td>\n",
              "      <td>1.000000e+00</td>\n",
              "      <td>0.000000e+00</td>\n",
              "      <td>0.000000e+00</td>\n",
              "      <td>0.000000e+00</td>\n",
              "      <td>0.000000e+00</td>\n",
              "      <td>3.000000e+00</td>\n",
              "      <td>1.000000e+00</td>\n",
              "      <td>3.390100e+00</td>\n",
              "      <td>1.000000e+01</td>\n",
              "      <td>1.000000e+01</td>\n",
              "      <td>0.000000e+00</td>\n",
              "      <td>0.000000e+00</td>\n",
              "      <td>1.376560e+01</td>\n",
              "      <td>1.357768e+01</td>\n",
              "      <td>0.000000e+00</td>\n",
              "      <td>4.221870e-01</td>\n",
              "      <td>2.476636e-01</td>\n",
              "      <td>3.830110e-01</td>\n",
              "      <td>1.785862e-01</td>\n",
              "      <td>2.886751e-01</td>\n",
              "      <td>1.666667e-01</td>\n",
              "      <td>0.000000e+00</td>\n",
              "      <td>0.000000e+00</td>\n",
              "      <td>0.000000e+00</td>\n",
              "    </tr>\n",
              "    <tr>\n",
              "      <th>50%</th>\n",
              "      <td>7.726000e+03</td>\n",
              "      <td>1.970000e+02</td>\n",
              "      <td>0.000000e+00</td>\n",
              "      <td>1.080000e+02</td>\n",
              "      <td>2.020080e+05</td>\n",
              "      <td>1.100000e+01</td>\n",
              "      <td>0.000000e+00</td>\n",
              "      <td>2.020040e+05</td>\n",
              "      <td>2.000000e+00</td>\n",
              "      <td>0.000000e+00</td>\n",
              "      <td>0.000000e+00</td>\n",
              "      <td>0.000000e+00</td>\n",
              "      <td>0.000000e+00</td>\n",
              "      <td>6.000000e+00</td>\n",
              "      <td>1.000000e+00</td>\n",
              "      <td>6.886800e+00</td>\n",
              "      <td>1.500000e+01</td>\n",
              "      <td>1.500000e+01</td>\n",
              "      <td>0.000000e+00</td>\n",
              "      <td>0.000000e+00</td>\n",
              "      <td>1.841180e+01</td>\n",
              "      <td>2.517241e+01</td>\n",
              "      <td>0.000000e+00</td>\n",
              "      <td>4.638078e-01</td>\n",
              "      <td>3.478261e-01</td>\n",
              "      <td>4.235764e-01</td>\n",
              "      <td>2.343202e-01</td>\n",
              "      <td>4.472136e-01</td>\n",
              "      <td>3.333333e-01</td>\n",
              "      <td>3.333333e-01</td>\n",
              "      <td>0.000000e+00</td>\n",
              "      <td>1.000000e+00</td>\n",
              "    </tr>\n",
              "    <tr>\n",
              "      <th>75%</th>\n",
              "      <td>1.291900e+04</td>\n",
              "      <td>4.030000e+02</td>\n",
              "      <td>0.000000e+00</td>\n",
              "      <td>2.300000e+02</td>\n",
              "      <td>2.020080e+05</td>\n",
              "      <td>1.500000e+01</td>\n",
              "      <td>1.000000e+00</td>\n",
              "      <td>2.020060e+05</td>\n",
              "      <td>4.000000e+00</td>\n",
              "      <td>0.000000e+00</td>\n",
              "      <td>1.000000e+00</td>\n",
              "      <td>1.000000e+00</td>\n",
              "      <td>0.000000e+00</td>\n",
              "      <td>1.300000e+01</td>\n",
              "      <td>3.000000e+00</td>\n",
              "      <td>1.431370e+01</td>\n",
              "      <td>2.100000e+01</td>\n",
              "      <td>2.100000e+01</td>\n",
              "      <td>0.000000e+00</td>\n",
              "      <td>0.000000e+00</td>\n",
              "      <td>2.473910e+01</td>\n",
              "      <td>4.313636e+01</td>\n",
              "      <td>0.000000e+00</td>\n",
              "      <td>4.916828e-01</td>\n",
              "      <td>5.020576e-01</td>\n",
              "      <td>4.705746e-01</td>\n",
              "      <td>3.309992e-01</td>\n",
              "      <td>5.345225e-01</td>\n",
              "      <td>5.714286e-01</td>\n",
              "      <td>3.333333e-01</td>\n",
              "      <td>0.000000e+00</td>\n",
              "      <td>1.000000e+00</td>\n",
              "    </tr>\n",
              "    <tr>\n",
              "      <th>max</th>\n",
              "      <td>1.999900e+04</td>\n",
              "      <td>8.800000e+02</td>\n",
              "      <td>1.000000e+00</td>\n",
              "      <td>1.915000e+03</td>\n",
              "      <td>2.020090e+05</td>\n",
              "      <td>2.300000e+01</td>\n",
              "      <td>1.000000e+00</td>\n",
              "      <td>2.020090e+05</td>\n",
              "      <td>6.000000e+00</td>\n",
              "      <td>1.000000e+00</td>\n",
              "      <td>1.000000e+00</td>\n",
              "      <td>1.000000e+00</td>\n",
              "      <td>1.000000e+00</td>\n",
              "      <td>2.120000e+02</td>\n",
              "      <td>1.950000e+02</td>\n",
              "      <td>7.300000e+02</td>\n",
              "      <td>9.700000e+01</td>\n",
              "      <td>8.500000e+01</td>\n",
              "      <td>1.000000e+00</td>\n",
              "      <td>1.000000e+00</td>\n",
              "      <td>1.290000e+02</td>\n",
              "      <td>3.285000e+03</td>\n",
              "      <td>1.000000e+00</td>\n",
              "      <td>5.773503e-01</td>\n",
              "      <td>1.000000e+00</td>\n",
              "      <td>7.071068e-01</td>\n",
              "      <td>1.000000e+00</td>\n",
              "      <td>7.071068e-01</td>\n",
              "      <td>1.000000e+00</td>\n",
              "      <td>1.000000e+00</td>\n",
              "      <td>1.000000e+00</td>\n",
              "      <td>1.000000e+00</td>\n",
              "    </tr>\n",
              "  </tbody>\n",
              "</table>\n",
              "</div>"
            ],
            "text/plain": [
              "            user_id          cart  ...  is_in_all_3ord  is_only_one_ord\n",
              "count  1.031269e+06  1.031269e+06  ...    1.031269e+06     1.031269e+06\n",
              "mean   8.458662e+03  2.562189e+02  ...    4.058301e-02     5.173131e-01\n",
              "std    5.569852e+03  2.210642e+02  ...    1.973222e-01     4.997004e-01\n",
              "min    0.000000e+00  0.000000e+00  ...    0.000000e+00     0.000000e+00\n",
              "25%    3.668000e+03  5.700000e+01  ...    0.000000e+00     0.000000e+00\n",
              "50%    7.726000e+03  1.970000e+02  ...    0.000000e+00     1.000000e+00\n",
              "75%    1.291900e+04  4.030000e+02  ...    0.000000e+00     1.000000e+00\n",
              "max    1.999900e+04  8.800000e+02  ...    1.000000e+00     1.000000e+00\n",
              "\n",
              "[8 rows x 32 columns]"
            ]
          },
          "metadata": {},
          "execution_count": 113
        }
      ]
    },
    {
      "cell_type": "code",
      "metadata": {
        "colab": {
          "base_uri": "https://localhost:8080/",
          "height": 319
        },
        "id": "Ibeuvjqbidh8",
        "outputId": "a2b341e4-2e6e-453f-d4a0-1fd811b3fe97"
      },
      "source": [
        "test.describe()"
      ],
      "execution_count": 114,
      "outputs": [
        {
          "output_type": "execute_result",
          "data": {
            "text/html": [
              "<div>\n",
              "<style scoped>\n",
              "    .dataframe tbody tr th:only-of-type {\n",
              "        vertical-align: middle;\n",
              "    }\n",
              "\n",
              "    .dataframe tbody tr th {\n",
              "        vertical-align: top;\n",
              "    }\n",
              "\n",
              "    .dataframe thead th {\n",
              "        text-align: right;\n",
              "    }\n",
              "</style>\n",
              "<table border=\"1\" class=\"dataframe\">\n",
              "  <thead>\n",
              "    <tr style=\"text-align: right;\">\n",
              "      <th></th>\n",
              "      <th>user_id</th>\n",
              "      <th>cart</th>\n",
              "      <th>client_cart_period</th>\n",
              "      <th>order_month_int</th>\n",
              "      <th>order_hour_int</th>\n",
              "      <th>order_is_morning</th>\n",
              "      <th>client_cart_first_order_day_int</th>\n",
              "      <th>order_weekday_cat</th>\n",
              "      <th>order_is_weekend</th>\n",
              "      <th>lag_target</th>\n",
              "      <th>lag2_target</th>\n",
              "      <th>lag3_target</th>\n",
              "      <th>client_num_of_order</th>\n",
              "      <th>client_cart_num_of_order</th>\n",
              "      <th>client_cart_1y_qnt</th>\n",
              "      <th>cart_qnt_in_prev_order</th>\n",
              "      <th>lag_cart_qnt_in_prev_order</th>\n",
              "      <th>is_small_prev_order</th>\n",
              "      <th>lag_is_small_prev_order</th>\n",
              "      <th>mean_size_order</th>\n",
              "      <th>orders_per_year</th>\n",
              "      <th>is_cart_out</th>\n",
              "      <th>client_std</th>\n",
              "      <th>client_mean</th>\n",
              "      <th>cart_std</th>\n",
              "      <th>cart_mean</th>\n",
              "      <th>client_cart_std</th>\n",
              "      <th>client_cart_mean</th>\n",
              "      <th>client_cart_3ord_mean</th>\n",
              "      <th>is_in_all_3ord</th>\n",
              "      <th>is_only_one_ord</th>\n",
              "    </tr>\n",
              "  </thead>\n",
              "  <tbody>\n",
              "    <tr>\n",
              "      <th>count</th>\n",
              "      <td>1.031269e+06</td>\n",
              "      <td>1.031269e+06</td>\n",
              "      <td>1.031269e+06</td>\n",
              "      <td>1.031269e+06</td>\n",
              "      <td>1.031269e+06</td>\n",
              "      <td>1.031269e+06</td>\n",
              "      <td>1.031269e+06</td>\n",
              "      <td>1.031269e+06</td>\n",
              "      <td>1.031269e+06</td>\n",
              "      <td>1.031269e+06</td>\n",
              "      <td>1.031269e+06</td>\n",
              "      <td>1.031269e+06</td>\n",
              "      <td>1.031269e+06</td>\n",
              "      <td>1.031269e+06</td>\n",
              "      <td>1.031269e+06</td>\n",
              "      <td>1.031269e+06</td>\n",
              "      <td>1.031269e+06</td>\n",
              "      <td>1.031269e+06</td>\n",
              "      <td>1.031269e+06</td>\n",
              "      <td>1.031269e+06</td>\n",
              "      <td>1.031269e+06</td>\n",
              "      <td>1.031269e+06</td>\n",
              "      <td>1.031269e+06</td>\n",
              "      <td>1.031269e+06</td>\n",
              "      <td>1.031269e+06</td>\n",
              "      <td>1.031269e+06</td>\n",
              "      <td>1.031269e+06</td>\n",
              "      <td>1.031269e+06</td>\n",
              "      <td>1.031269e+06</td>\n",
              "      <td>1.031269e+06</td>\n",
              "      <td>1.031269e+06</td>\n",
              "    </tr>\n",
              "    <tr>\n",
              "      <th>mean</th>\n",
              "      <td>8.458662e+03</td>\n",
              "      <td>2.562189e+02</td>\n",
              "      <td>1.761004e+02</td>\n",
              "      <td>2.020105e+05</td>\n",
              "      <td>1.106141e+01</td>\n",
              "      <td>4.963332e-01</td>\n",
              "      <td>2.019777e+05</td>\n",
              "      <td>2.930378e+00</td>\n",
              "      <td>2.674530e-01</td>\n",
              "      <td>1.888411e-01</td>\n",
              "      <td>2.743183e-01</td>\n",
              "      <td>2.764012e-01</td>\n",
              "      <td>1.171907e+01</td>\n",
              "      <td>2.944657e+00</td>\n",
              "      <td>1.085202e+01</td>\n",
              "      <td>1.591777e+01</td>\n",
              "      <td>1.620929e+01</td>\n",
              "      <td>4.452960e-02</td>\n",
              "      <td>3.777482e-02</td>\n",
              "      <td>1.901635e+01</td>\n",
              "      <td>3.449068e+01</td>\n",
              "      <td>2.618134e-05</td>\n",
              "      <td>4.537139e-01</td>\n",
              "      <td>3.527222e-01</td>\n",
              "      <td>4.193375e-01</td>\n",
              "      <td>2.631795e-01</td>\n",
              "      <td>4.407439e-01</td>\n",
              "      <td>3.474267e-01</td>\n",
              "      <td>2.465202e-01</td>\n",
              "      <td>4.814845e-02</td>\n",
              "      <td>4.598868e-01</td>\n",
              "    </tr>\n",
              "    <tr>\n",
              "      <th>std</th>\n",
              "      <td>5.569852e+03</td>\n",
              "      <td>2.210642e+02</td>\n",
              "      <td>1.582290e+02</td>\n",
              "      <td>1.379291e+01</td>\n",
              "      <td>6.729131e+00</td>\n",
              "      <td>4.999868e-01</td>\n",
              "      <td>4.852780e+01</td>\n",
              "      <td>1.972311e+00</td>\n",
              "      <td>4.426309e-01</td>\n",
              "      <td>3.913826e-01</td>\n",
              "      <td>4.461704e-01</td>\n",
              "      <td>4.472178e-01</td>\n",
              "      <td>1.360052e+01</td>\n",
              "      <td>4.031725e+00</td>\n",
              "      <td>1.985265e+01</td>\n",
              "      <td>9.056214e+00</td>\n",
              "      <td>9.204277e+00</td>\n",
              "      <td>2.062687e-01</td>\n",
              "      <td>1.906513e-01</td>\n",
              "      <td>8.164724e+00</td>\n",
              "      <td>4.287281e+01</td>\n",
              "      <td>5.116706e-03</td>\n",
              "      <td>4.763037e-02</td>\n",
              "      <td>1.452997e-01</td>\n",
              "      <td>5.800016e-02</td>\n",
              "      <td>1.213411e-01</td>\n",
              "      <td>1.593928e-01</td>\n",
              "      <td>2.444233e-01</td>\n",
              "      <td>2.869994e-01</td>\n",
              "      <td>2.140799e-01</td>\n",
              "      <td>4.983886e-01</td>\n",
              "    </tr>\n",
              "    <tr>\n",
              "      <th>min</th>\n",
              "      <td>0.000000e+00</td>\n",
              "      <td>0.000000e+00</td>\n",
              "      <td>0.000000e+00</td>\n",
              "      <td>2.020060e+05</td>\n",
              "      <td>0.000000e+00</td>\n",
              "      <td>0.000000e+00</td>\n",
              "      <td>2.015030e+05</td>\n",
              "      <td>0.000000e+00</td>\n",
              "      <td>0.000000e+00</td>\n",
              "      <td>0.000000e+00</td>\n",
              "      <td>0.000000e+00</td>\n",
              "      <td>0.000000e+00</td>\n",
              "      <td>2.000000e+00</td>\n",
              "      <td>1.000000e+00</td>\n",
              "      <td>0.000000e+00</td>\n",
              "      <td>1.000000e+00</td>\n",
              "      <td>1.000000e+00</td>\n",
              "      <td>0.000000e+00</td>\n",
              "      <td>0.000000e+00</td>\n",
              "      <td>1.000000e+00</td>\n",
              "      <td>0.000000e+00</td>\n",
              "      <td>0.000000e+00</td>\n",
              "      <td>0.000000e+00</td>\n",
              "      <td>5.627240e-02</td>\n",
              "      <td>0.000000e+00</td>\n",
              "      <td>1.098901e-02</td>\n",
              "      <td>0.000000e+00</td>\n",
              "      <td>4.694836e-03</td>\n",
              "      <td>0.000000e+00</td>\n",
              "      <td>0.000000e+00</td>\n",
              "      <td>0.000000e+00</td>\n",
              "    </tr>\n",
              "    <tr>\n",
              "      <th>25%</th>\n",
              "      <td>3.668000e+03</td>\n",
              "      <td>5.700000e+01</td>\n",
              "      <td>6.400000e+01</td>\n",
              "      <td>2.020080e+05</td>\n",
              "      <td>5.000000e+00</td>\n",
              "      <td>0.000000e+00</td>\n",
              "      <td>2.019120e+05</td>\n",
              "      <td>1.000000e+00</td>\n",
              "      <td>0.000000e+00</td>\n",
              "      <td>0.000000e+00</td>\n",
              "      <td>0.000000e+00</td>\n",
              "      <td>0.000000e+00</td>\n",
              "      <td>4.000000e+00</td>\n",
              "      <td>1.000000e+00</td>\n",
              "      <td>2.943500e+00</td>\n",
              "      <td>1.000000e+01</td>\n",
              "      <td>1.000000e+01</td>\n",
              "      <td>0.000000e+00</td>\n",
              "      <td>0.000000e+00</td>\n",
              "      <td>1.337500e+01</td>\n",
              "      <td>1.351852e+01</td>\n",
              "      <td>0.000000e+00</td>\n",
              "      <td>4.267394e-01</td>\n",
              "      <td>2.404255e-01</td>\n",
              "      <td>3.836808e-01</td>\n",
              "      <td>1.793866e-01</td>\n",
              "      <td>3.535534e-01</td>\n",
              "      <td>1.538462e-01</td>\n",
              "      <td>0.000000e+00</td>\n",
              "      <td>0.000000e+00</td>\n",
              "      <td>0.000000e+00</td>\n",
              "    </tr>\n",
              "    <tr>\n",
              "      <th>50%</th>\n",
              "      <td>7.726000e+03</td>\n",
              "      <td>1.970000e+02</td>\n",
              "      <td>1.310000e+02</td>\n",
              "      <td>2.020090e+05</td>\n",
              "      <td>1.100000e+01</td>\n",
              "      <td>0.000000e+00</td>\n",
              "      <td>2.020040e+05</td>\n",
              "      <td>3.000000e+00</td>\n",
              "      <td>0.000000e+00</td>\n",
              "      <td>0.000000e+00</td>\n",
              "      <td>0.000000e+00</td>\n",
              "      <td>0.000000e+00</td>\n",
              "      <td>7.000000e+00</td>\n",
              "      <td>2.000000e+00</td>\n",
              "      <td>5.983600e+00</td>\n",
              "      <td>1.400000e+01</td>\n",
              "      <td>1.500000e+01</td>\n",
              "      <td>0.000000e+00</td>\n",
              "      <td>0.000000e+00</td>\n",
              "      <td>1.766670e+01</td>\n",
              "      <td>2.507634e+01</td>\n",
              "      <td>0.000000e+00</td>\n",
              "      <td>4.679173e-01</td>\n",
              "      <td>3.293592e-01</td>\n",
              "      <td>4.232104e-01</td>\n",
              "      <td>2.337380e-01</td>\n",
              "      <td>4.670994e-01</td>\n",
              "      <td>3.000000e-01</td>\n",
              "      <td>3.333333e-01</td>\n",
              "      <td>0.000000e+00</td>\n",
              "      <td>0.000000e+00</td>\n",
              "    </tr>\n",
              "    <tr>\n",
              "      <th>75%</th>\n",
              "      <td>1.291900e+04</td>\n",
              "      <td>4.030000e+02</td>\n",
              "      <td>2.610000e+02</td>\n",
              "      <td>2.020090e+05</td>\n",
              "      <td>1.700000e+01</td>\n",
              "      <td>1.000000e+00</td>\n",
              "      <td>2.020060e+05</td>\n",
              "      <td>5.000000e+00</td>\n",
              "      <td>1.000000e+00</td>\n",
              "      <td>0.000000e+00</td>\n",
              "      <td>1.000000e+00</td>\n",
              "      <td>1.000000e+00</td>\n",
              "      <td>1.400000e+01</td>\n",
              "      <td>3.000000e+00</td>\n",
              "      <td>1.237290e+01</td>\n",
              "      <td>2.000000e+01</td>\n",
              "      <td>2.100000e+01</td>\n",
              "      <td>0.000000e+00</td>\n",
              "      <td>0.000000e+00</td>\n",
              "      <td>2.300000e+01</td>\n",
              "      <td>4.294118e+01</td>\n",
              "      <td>0.000000e+00</td>\n",
              "      <td>4.933637e-01</td>\n",
              "      <td>4.501511e-01</td>\n",
              "      <td>4.707785e-01</td>\n",
              "      <td>3.315685e-01</td>\n",
              "      <td>5.477226e-01</td>\n",
              "      <td>5.000000e-01</td>\n",
              "      <td>3.333333e-01</td>\n",
              "      <td>0.000000e+00</td>\n",
              "      <td>1.000000e+00</td>\n",
              "    </tr>\n",
              "    <tr>\n",
              "      <th>max</th>\n",
              "      <td>1.999900e+04</td>\n",
              "      <td>8.800000e+02</td>\n",
              "      <td>3.452000e+03</td>\n",
              "      <td>2.025050e+05</td>\n",
              "      <td>2.300000e+01</td>\n",
              "      <td>1.000000e+00</td>\n",
              "      <td>2.020090e+05</td>\n",
              "      <td>6.000000e+00</td>\n",
              "      <td>1.000000e+00</td>\n",
              "      <td>1.000000e+00</td>\n",
              "      <td>1.000000e+00</td>\n",
              "      <td>1.000000e+00</td>\n",
              "      <td>2.130000e+02</td>\n",
              "      <td>1.960000e+02</td>\n",
              "      <td>1.095000e+03</td>\n",
              "      <td>9.100000e+01</td>\n",
              "      <td>9.700000e+01</td>\n",
              "      <td>1.000000e+00</td>\n",
              "      <td>1.000000e+00</td>\n",
              "      <td>9.500000e+01</td>\n",
              "      <td>2.920000e+03</td>\n",
              "      <td>1.000000e+00</td>\n",
              "      <td>5.477226e-01</td>\n",
              "      <td>1.000000e+00</td>\n",
              "      <td>7.071068e-01</td>\n",
              "      <td>1.000000e+00</td>\n",
              "      <td>7.071068e-01</td>\n",
              "      <td>1.000000e+00</td>\n",
              "      <td>1.000000e+00</td>\n",
              "      <td>1.000000e+00</td>\n",
              "      <td>1.000000e+00</td>\n",
              "    </tr>\n",
              "  </tbody>\n",
              "</table>\n",
              "</div>"
            ],
            "text/plain": [
              "            user_id          cart  ...  is_in_all_3ord  is_only_one_ord\n",
              "count  1.031269e+06  1.031269e+06  ...    1.031269e+06     1.031269e+06\n",
              "mean   8.458662e+03  2.562189e+02  ...    4.814845e-02     4.598868e-01\n",
              "std    5.569852e+03  2.210642e+02  ...    2.140799e-01     4.983886e-01\n",
              "min    0.000000e+00  0.000000e+00  ...    0.000000e+00     0.000000e+00\n",
              "25%    3.668000e+03  5.700000e+01  ...    0.000000e+00     0.000000e+00\n",
              "50%    7.726000e+03  1.970000e+02  ...    0.000000e+00     0.000000e+00\n",
              "75%    1.291900e+04  4.030000e+02  ...    0.000000e+00     1.000000e+00\n",
              "max    1.999900e+04  8.800000e+02  ...    1.000000e+00     1.000000e+00\n",
              "\n",
              "[8 rows x 31 columns]"
            ]
          },
          "metadata": {},
          "execution_count": 114
        }
      ]
    },
    {
      "cell_type": "code",
      "metadata": {
        "colab": {
          "base_uri": "https://localhost:8080/",
          "height": 1000
        },
        "id": "2YT0yUIridkh",
        "outputId": "9b2bbd36-2f6d-4894-b0a7-3613b6da132e"
      },
      "source": [
        "# Для численных признаков строим гистраграмму\n",
        "sns.set_theme(style=\"darkgrid\", palette=\"deep\")\n",
        "for k in range(0,20,4):\n",
        "  fig, axes = plt.subplots(1, 4, figsize=(16,4))\n",
        "  for i, column in enumerate(num_cols1[k:k+4]):\n",
        "    sns.histplot(x = column, data=data, ax=axes[i], bins = 20)"
      ],
      "execution_count": 129,
      "outputs": [
        {
          "output_type": "display_data",
          "data": {
            "image/png": "[encoded data removed]",
            "text/plain": [
              "<Figure size 1152x288 with 4 Axes>"
            ]
          },
          "metadata": {}
        },
        {
          "output_type": "display_data",
          "data": {
            "image/png": "[encoded data removed]",
            "text/plain": [
              "<Figure size 1152x288 with 4 Axes>"
            ]
          },
          "metadata": {}
        },
        {
          "output_type": "display_data",
          "data": {
            "image/png": "[encoded data removed]",
            "text/plain": [
              "<Figure size 1152x288 with 4 Axes>"
            ]
          },
          "metadata": {}
        },
        {
          "output_type": "display_data",
          "data": {
            "image/png": "[encoded data removed]",
            "text/plain": [
              "<Figure size 1152x288 with 4 Axes>"
            ]
          },
          "metadata": {}
        },
        {
          "output_type": "display_data",
          "data": {
            "image/png": "[encoded data removed]",
            "text/plain": [
              "<Figure size 1152x288 with 4 Axes>"
            ]
          },
          "metadata": {}
        }
      ]
    },
    {
      "cell_type": "code",
      "metadata": {
        "colab": {
          "base_uri": "https://localhost:8080/",
          "height": 1000
        },
        "id": "F0eYG4naidnC",
        "outputId": "944a37fb-060c-4ecc-9b15-c0e83b593bdb"
      },
      "source": [
        "# Для численных признаков строим боксплоты\n",
        "sns.set_theme(style=\"darkgrid\", palette=\"deep\")\n",
        "for k in range(0,20,4):\n",
        "  fig, axes = plt.subplots(1, 4, figsize=(16,4))\n",
        "  for i, column in enumerate(num_cols1[k:k+4]):\n",
        "    sns.boxplot(x='target', y = column, data=data, ax=axes[i])"
      ],
      "execution_count": 130,
      "outputs": [
        {
          "output_type": "display_data",
          "data": {
            "image/png": "[encoded data removed]",
            "text/plain": [
              "<Figure size 1152x288 with 4 Axes>"
            ]
          },
          "metadata": {}
        },
        {
          "output_type": "display_data",
          "data": {
            "image/png": "[encoded data removed]",
            "text/plain": [
              "<Figure size 1152x288 with 4 Axes>"
            ]
          },
          "metadata": {}
        },
        {
          "output_type": "display_data",
          "data": {
            "image/png": "[encoded data removed]",
            "text/plain": [
              "<Figure size 1152x288 with 4 Axes>"
            ]
          },
          "metadata": {}
        },
        {
          "output_type": "display_data",
          "data": {
            "image/png": "[encoded data removed]",
            "text/plain": [
              "<Figure size 1152x288 with 4 Axes>"
            ]
          },
          "metadata": {}
        },
        {
          "output_type": "display_data",
          "data": {
            "image/png": "[encoded data removed]",
            "text/plain": [
              "<Figure size 1152x288 with 4 Axes>"
            ]
          },
          "metadata": {}
        }
      ]
    },
    {
      "cell_type": "code",
      "metadata": {
        "colab": {
          "base_uri": "https://localhost:8080/",
          "height": 1000
        },
        "id": "DOxm_Vygidrk",
        "outputId": "0fbca353-ffd4-4eb9-fab6-5a40796f65c1"
      },
      "source": [
        "# Для категориальных признаков строим каунтплоты\n",
        "sns.set_theme(style=\"darkgrid\", palette=\"deep\")\n",
        "for k in range(0,16,4):\n",
        "  fig, axes = plt.subplots(1, 4, figsize=(16,4))\n",
        "  for i, column in enumerate(cat_cols1[k:k+4]):\n",
        "    sns.countplot(x=column, hue='target', data=data, ax=axes[i])"
      ],
      "execution_count": 131,
      "outputs": [
        {
          "output_type": "display_data",
          "data": {
            "image/png": "[encoded data removed]",
            "text/plain": [
              "<Figure size 1152x288 with 4 Axes>"
            ]
          },
          "metadata": {}
        },
        {
          "output_type": "display_data",
          "data": {
            "image/png": "[encoded data removed]",
            "text/plain": [
              "<Figure size 1152x288 with 4 Axes>"
            ]
          },
          "metadata": {}
        },
        {
          "output_type": "display_data",
          "data": {
            "image/png": "[encoded data removed]",
            "text/plain": [
              "<Figure size 1152x288 with 4 Axes>"
            ]
          },
          "metadata": {}
        },
        {
          "output_type": "display_data",
          "data": {
            "image/png": "[encoded data removed]",
            "text/plain": [
              "<Figure size 1152x288 with 4 Axes>"
            ]
          },
          "metadata": {}
        }
      ]
    },
    {
      "cell_type": "code",
      "metadata": {
        "colab": {
          "base_uri": "https://localhost:8080/",
          "height": 303
        },
        "id": "DGEZaPsxjttH",
        "outputId": "267e5676-1fbe-40e6-fc2a-2b5fbee41282"
      },
      "source": [
        "# Посмотриv на распределение целевой переменной, классы не сбалансированы \n",
        "sns.set_theme(style=\"darkgrid\", palette=\"deep\")\n",
        "sns.countplot(x=target_col, hue='target', data=data)"
      ],
      "execution_count": 133,
      "outputs": [
        {
          "output_type": "execute_result",
          "data": {
            "text/plain": [
              "<matplotlib.axes._subplots.AxesSubplot at 0x7fed90c124d0>"
            ]
          },
          "metadata": {},
          "execution_count": 133
        },
        {
          "output_type": "display_data",
          "data": {
            "image/png": "[encoded data removed]",
            "text/plain": [
              "<Figure size 432x288 with 1 Axes>"
            ]
          },
          "metadata": {}
        }
      ]
    },
    {
      "cell_type": "code",
      "metadata": {
        "colab": {
          "base_uri": "https://localhost:8080/",
          "height": 1000
        },
        "id": "9ZUgFd1gjtvo",
        "outputId": "61b11e33-94b1-415e-fb49-f5349d9c04e0"
      },
      "source": [
        "# Корреляции\n",
        "data.loc[:, num_cols1 + cat_cols1 + [target_col]].corr()"
      ],
      "execution_count": 136,
      "outputs": [
        {
          "output_type": "execute_result",
          "data": {
            "text/html": [
              "<div>\n",
              "<style scoped>\n",
              "    .dataframe tbody tr th:only-of-type {\n",
              "        vertical-align: middle;\n",
              "    }\n",
              "\n",
              "    .dataframe tbody tr th {\n",
              "        vertical-align: top;\n",
              "    }\n",
              "\n",
              "    .dataframe thead th {\n",
              "        text-align: right;\n",
              "    }\n",
              "</style>\n",
              "<table border=\"1\" class=\"dataframe\">\n",
              "  <thead>\n",
              "    <tr style=\"text-align: right;\">\n",
              "      <th></th>\n",
              "      <th>client_cart_period</th>\n",
              "      <th>lag_target</th>\n",
              "      <th>lag2_target</th>\n",
              "      <th>lag3_target</th>\n",
              "      <th>client_num_of_order</th>\n",
              "      <th>client_cart_num_of_order</th>\n",
              "      <th>client_cart_1y_qnt</th>\n",
              "      <th>cart_qnt_in_prev_order</th>\n",
              "      <th>lag_cart_qnt_in_prev_order</th>\n",
              "      <th>mean_size_order</th>\n",
              "      <th>orders_per_year</th>\n",
              "      <th>client_std</th>\n",
              "      <th>client_mean</th>\n",
              "      <th>cart_std</th>\n",
              "      <th>cart_mean</th>\n",
              "      <th>client_cart_std</th>\n",
              "      <th>client_cart_mean</th>\n",
              "      <th>client_cart_3ord_mean</th>\n",
              "      <th>user_id</th>\n",
              "      <th>cart</th>\n",
              "      <th>order_month_int</th>\n",
              "      <th>order_hour_int</th>\n",
              "      <th>order_is_morning</th>\n",
              "      <th>client_cart_first_order_day_int</th>\n",
              "      <th>order_weekday_cat</th>\n",
              "      <th>order_is_weekend</th>\n",
              "      <th>is_small_prev_order</th>\n",
              "      <th>lag_is_small_prev_order</th>\n",
              "      <th>is_cart_out</th>\n",
              "      <th>is_in_all_3ord</th>\n",
              "      <th>is_only_one_ord</th>\n",
              "      <th>target</th>\n",
              "    </tr>\n",
              "  </thead>\n",
              "  <tbody>\n",
              "    <tr>\n",
              "      <th>client_cart_period</th>\n",
              "      <td>1.000000</td>\n",
              "      <td>-0.146595</td>\n",
              "      <td>-0.086648</td>\n",
              "      <td>0.005223</td>\n",
              "      <td>0.522705</td>\n",
              "      <td>0.355256</td>\n",
              "      <td>-0.280375</td>\n",
              "      <td>0.037893</td>\n",
              "      <td>0.061277</td>\n",
              "      <td>-0.102538</td>\n",
              "      <td>-0.225074</td>\n",
              "      <td>-0.202887</td>\n",
              "      <td>-0.337319</td>\n",
              "      <td>0.002646</td>\n",
              "      <td>0.007461</td>\n",
              "      <td>0.027034</td>\n",
              "      <td>-0.310341</td>\n",
              "      <td>-0.125343</td>\n",
              "      <td>-0.610943</td>\n",
              "      <td>-0.003307</td>\n",
              "      <td>0.016122</td>\n",
              "      <td>0.043428</td>\n",
              "      <td>-0.026316</td>\n",
              "      <td>-0.898547</td>\n",
              "      <td>-0.009038</td>\n",
              "      <td>0.000591</td>\n",
              "      <td>0.005232</td>\n",
              "      <td>0.011675</td>\n",
              "      <td>0.001546</td>\n",
              "      <td>0.039715</td>\n",
              "      <td>-0.302898</td>\n",
              "      <td>-0.000123</td>\n",
              "    </tr>\n",
              "    <tr>\n",
              "      <th>lag_target</th>\n",
              "      <td>-0.146595</td>\n",
              "      <td>1.000000</td>\n",
              "      <td>0.085789</td>\n",
              "      <td>0.062807</td>\n",
              "      <td>-0.174818</td>\n",
              "      <td>0.160800</td>\n",
              "      <td>0.302930</td>\n",
              "      <td>0.195606</td>\n",
              "      <td>0.020061</td>\n",
              "      <td>0.278150</td>\n",
              "      <td>-0.030436</td>\n",
              "      <td>0.059435</td>\n",
              "      <td>0.352779</td>\n",
              "      <td>0.228386</td>\n",
              "      <td>0.254229</td>\n",
              "      <td>-0.521888</td>\n",
              "      <td>0.740117</td>\n",
              "      <td>0.627910</td>\n",
              "      <td>0.140616</td>\n",
              "      <td>-0.073867</td>\n",
              "      <td>-0.080446</td>\n",
              "      <td>0.000624</td>\n",
              "      <td>-0.003136</td>\n",
              "      <td>0.098262</td>\n",
              "      <td>0.021418</td>\n",
              "      <td>0.013206</td>\n",
              "      <td>-0.093173</td>\n",
              "      <td>-0.009003</td>\n",
              "      <td>-0.002296</td>\n",
              "      <td>0.334514</td>\n",
              "      <td>-0.183870</td>\n",
              "      <td>0.234672</td>\n",
              "    </tr>\n",
              "    <tr>\n",
              "      <th>lag2_target</th>\n",
              "      <td>-0.086648</td>\n",
              "      <td>0.085789</td>\n",
              "      <td>1.000000</td>\n",
              "      <td>0.079820</td>\n",
              "      <td>-0.157442</td>\n",
              "      <td>0.165171</td>\n",
              "      <td>0.094958</td>\n",
              "      <td>0.024693</td>\n",
              "      <td>0.196031</td>\n",
              "      <td>0.017661</td>\n",
              "      <td>-0.080112</td>\n",
              "      <td>0.144363</td>\n",
              "      <td>0.310999</td>\n",
              "      <td>0.227135</td>\n",
              "      <td>0.251986</td>\n",
              "      <td>0.239465</td>\n",
              "      <td>0.379380</td>\n",
              "      <td>0.637840</td>\n",
              "      <td>0.136446</td>\n",
              "      <td>-0.071877</td>\n",
              "      <td>-0.085140</td>\n",
              "      <td>0.001293</td>\n",
              "      <td>-0.000694</td>\n",
              "      <td>0.063802</td>\n",
              "      <td>0.018564</td>\n",
              "      <td>0.012525</td>\n",
              "      <td>-0.004032</td>\n",
              "      <td>-0.092277</td>\n",
              "      <td>0.000228</td>\n",
              "      <td>0.332772</td>\n",
              "      <td>-0.197598</td>\n",
              "      <td>0.208164</td>\n",
              "    </tr>\n",
              "    <tr>\n",
              "      <th>lag3_target</th>\n",
              "      <td>0.005223</td>\n",
              "      <td>0.062807</td>\n",
              "      <td>0.079820</td>\n",
              "      <td>1.000000</td>\n",
              "      <td>-0.074124</td>\n",
              "      <td>0.225480</td>\n",
              "      <td>0.031624</td>\n",
              "      <td>0.028702</td>\n",
              "      <td>0.035572</td>\n",
              "      <td>-0.031249</td>\n",
              "      <td>-0.072869</td>\n",
              "      <td>0.207737</td>\n",
              "      <td>0.081494</td>\n",
              "      <td>0.197986</td>\n",
              "      <td>0.218309</td>\n",
              "      <td>0.206255</td>\n",
              "      <td>0.189441</td>\n",
              "      <td>0.592813</td>\n",
              "      <td>0.045838</td>\n",
              "      <td>-0.062598</td>\n",
              "      <td>-0.029543</td>\n",
              "      <td>0.003079</td>\n",
              "      <td>-0.003748</td>\n",
              "      <td>-0.000512</td>\n",
              "      <td>0.009265</td>\n",
              "      <td>0.007230</td>\n",
              "      <td>-0.004044</td>\n",
              "      <td>-0.013243</td>\n",
              "      <td>-0.002316</td>\n",
              "      <td>0.380092</td>\n",
              "      <td>-0.254946</td>\n",
              "      <td>0.181505</td>\n",
              "    </tr>\n",
              "    <tr>\n",
              "      <th>client_num_of_order</th>\n",
              "      <td>0.522705</td>\n",
              "      <td>-0.174818</td>\n",
              "      <td>-0.157442</td>\n",
              "      <td>-0.074124</td>\n",
              "      <td>1.000000</td>\n",
              "      <td>0.528338</td>\n",
              "      <td>-0.103486</td>\n",
              "      <td>-0.042666</td>\n",
              "      <td>-0.040990</td>\n",
              "      <td>-0.209548</td>\n",
              "      <td>0.266811</td>\n",
              "      <td>-0.549036</td>\n",
              "      <td>-0.565282</td>\n",
              "      <td>-0.054819</td>\n",
              "      <td>-0.046343</td>\n",
              "      <td>-0.098376</td>\n",
              "      <td>-0.420420</td>\n",
              "      <td>-0.220562</td>\n",
              "      <td>-0.342408</td>\n",
              "      <td>0.004839</td>\n",
              "      <td>0.215889</td>\n",
              "      <td>0.014601</td>\n",
              "      <td>-0.004975</td>\n",
              "      <td>-0.442051</td>\n",
              "      <td>-0.057511</td>\n",
              "      <td>-0.040750</td>\n",
              "      <td>-0.000197</td>\n",
              "      <td>0.008153</td>\n",
              "      <td>0.000147</td>\n",
              "      <td>0.002287</td>\n",
              "      <td>-0.323878</td>\n",
              "      <td>-0.043755</td>\n",
              "    </tr>\n",
              "    <tr>\n",
              "      <th>client_cart_num_of_order</th>\n",
              "      <td>0.355256</td>\n",
              "      <td>0.160800</td>\n",
              "      <td>0.165171</td>\n",
              "      <td>0.225480</td>\n",
              "      <td>0.528338</td>\n",
              "      <td>1.000000</td>\n",
              "      <td>0.098785</td>\n",
              "      <td>0.057867</td>\n",
              "      <td>0.055281</td>\n",
              "      <td>-0.064855</td>\n",
              "      <td>0.081653</td>\n",
              "      <td>-0.181938</td>\n",
              "      <td>-0.252761</td>\n",
              "      <td>0.257006</td>\n",
              "      <td>0.287169</td>\n",
              "      <td>0.063861</td>\n",
              "      <td>0.110710</td>\n",
              "      <td>0.294994</td>\n",
              "      <td>-0.183076</td>\n",
              "      <td>-0.092256</td>\n",
              "      <td>0.108452</td>\n",
              "      <td>0.013139</td>\n",
              "      <td>-0.005069</td>\n",
              "      <td>-0.307821</td>\n",
              "      <td>-0.029670</td>\n",
              "      <td>-0.019591</td>\n",
              "      <td>-0.024999</td>\n",
              "      <td>-0.022083</td>\n",
              "      <td>-0.002286</td>\n",
              "      <td>0.287792</td>\n",
              "      <td>-0.462495</td>\n",
              "      <td>0.212926</td>\n",
              "    </tr>\n",
              "    <tr>\n",
              "      <th>client_cart_1y_qnt</th>\n",
              "      <td>-0.280375</td>\n",
              "      <td>0.302930</td>\n",
              "      <td>0.094958</td>\n",
              "      <td>0.031624</td>\n",
              "      <td>-0.103486</td>\n",
              "      <td>0.098785</td>\n",
              "      <td>1.000000</td>\n",
              "      <td>-0.005839</td>\n",
              "      <td>-0.036323</td>\n",
              "      <td>0.101614</td>\n",
              "      <td>0.679306</td>\n",
              "      <td>0.011856</td>\n",
              "      <td>0.154912</td>\n",
              "      <td>0.096547</td>\n",
              "      <td>0.108181</td>\n",
              "      <td>-0.192482</td>\n",
              "      <td>0.386056</td>\n",
              "      <td>0.234609</td>\n",
              "      <td>0.272228</td>\n",
              "      <td>-0.034247</td>\n",
              "      <td>-0.001619</td>\n",
              "      <td>-0.015835</td>\n",
              "      <td>0.011775</td>\n",
              "      <td>0.198693</td>\n",
              "      <td>0.007028</td>\n",
              "      <td>0.004741</td>\n",
              "      <td>-0.010332</td>\n",
              "      <td>0.007123</td>\n",
              "      <td>-0.000609</td>\n",
              "      <td>0.084541</td>\n",
              "      <td>0.002160</td>\n",
              "      <td>0.077945</td>\n",
              "    </tr>\n",
              "    <tr>\n",
              "      <th>cart_qnt_in_prev_order</th>\n",
              "      <td>0.037893</td>\n",
              "      <td>0.195606</td>\n",
              "      <td>0.024693</td>\n",
              "      <td>0.028702</td>\n",
              "      <td>-0.042666</td>\n",
              "      <td>0.057867</td>\n",
              "      <td>-0.005839</td>\n",
              "      <td>1.000000</td>\n",
              "      <td>0.439693</td>\n",
              "      <td>0.654373</td>\n",
              "      <td>-0.104975</td>\n",
              "      <td>0.102949</td>\n",
              "      <td>0.217094</td>\n",
              "      <td>-0.044279</td>\n",
              "      <td>-0.046956</td>\n",
              "      <td>-0.083738</td>\n",
              "      <td>0.141525</td>\n",
              "      <td>0.135619</td>\n",
              "      <td>-0.052451</td>\n",
              "      <td>0.006839</td>\n",
              "      <td>-0.013485</td>\n",
              "      <td>0.039122</td>\n",
              "      <td>-0.037973</td>\n",
              "      <td>-0.034072</td>\n",
              "      <td>0.002328</td>\n",
              "      <td>0.003292</td>\n",
              "      <td>-0.307946</td>\n",
              "      <td>-0.117929</td>\n",
              "      <td>0.000543</td>\n",
              "      <td>0.082067</td>\n",
              "      <td>-0.065317</td>\n",
              "      <td>0.060658</td>\n",
              "    </tr>\n",
              "    <tr>\n",
              "      <th>lag_cart_qnt_in_prev_order</th>\n",
              "      <td>0.061277</td>\n",
              "      <td>0.020061</td>\n",
              "      <td>0.196031</td>\n",
              "      <td>0.035572</td>\n",
              "      <td>-0.040990</td>\n",
              "      <td>0.055281</td>\n",
              "      <td>-0.036323</td>\n",
              "      <td>0.439693</td>\n",
              "      <td>1.000000</td>\n",
              "      <td>0.610489</td>\n",
              "      <td>-0.113116</td>\n",
              "      <td>0.213782</td>\n",
              "      <td>0.156317</td>\n",
              "      <td>-0.046596</td>\n",
              "      <td>-0.049121</td>\n",
              "      <td>0.059710</td>\n",
              "      <td>0.076159</td>\n",
              "      <td>0.137067</td>\n",
              "      <td>-0.066950</td>\n",
              "      <td>0.008685</td>\n",
              "      <td>-0.026412</td>\n",
              "      <td>0.037409</td>\n",
              "      <td>-0.030262</td>\n",
              "      <td>-0.056837</td>\n",
              "      <td>-0.007021</td>\n",
              "      <td>-0.001635</td>\n",
              "      <td>-0.112127</td>\n",
              "      <td>-0.303524</td>\n",
              "      <td>-0.001352</td>\n",
              "      <td>0.079435</td>\n",
              "      <td>-0.064875</td>\n",
              "      <td>0.053866</td>\n",
              "    </tr>\n",
              "    <tr>\n",
              "      <th>mean_size_order</th>\n",
              "      <td>-0.102538</td>\n",
              "      <td>0.278150</td>\n",
              "      <td>0.017661</td>\n",
              "      <td>-0.031249</td>\n",
              "      <td>-0.209548</td>\n",
              "      <td>-0.064855</td>\n",
              "      <td>0.101614</td>\n",
              "      <td>0.654373</td>\n",
              "      <td>0.610489</td>\n",
              "      <td>1.000000</td>\n",
              "      <td>-0.128252</td>\n",
              "      <td>0.210934</td>\n",
              "      <td>0.340231</td>\n",
              "      <td>-0.092703</td>\n",
              "      <td>-0.102053</td>\n",
              "      <td>-0.216906</td>\n",
              "      <td>0.380410</td>\n",
              "      <td>0.146179</td>\n",
              "      <td>-0.012859</td>\n",
              "      <td>0.022559</td>\n",
              "      <td>-0.085664</td>\n",
              "      <td>0.048120</td>\n",
              "      <td>-0.041581</td>\n",
              "      <td>0.056015</td>\n",
              "      <td>0.008282</td>\n",
              "      <td>0.006858</td>\n",
              "      <td>-0.169829</td>\n",
              "      <td>-0.159577</td>\n",
              "      <td>0.000646</td>\n",
              "      <td>0.002433</td>\n",
              "      <td>0.139030</td>\n",
              "      <td>0.027771</td>\n",
              "    </tr>\n",
              "    <tr>\n",
              "      <th>orders_per_year</th>\n",
              "      <td>-0.225074</td>\n",
              "      <td>-0.030436</td>\n",
              "      <td>-0.080112</td>\n",
              "      <td>-0.072869</td>\n",
              "      <td>0.266811</td>\n",
              "      <td>0.081653</td>\n",
              "      <td>0.679306</td>\n",
              "      <td>-0.104975</td>\n",
              "      <td>-0.113116</td>\n",
              "      <td>-0.128252</td>\n",
              "      <td>1.000000</td>\n",
              "      <td>-0.270809</td>\n",
              "      <td>-0.224436</td>\n",
              "      <td>-0.051916</td>\n",
              "      <td>-0.046018</td>\n",
              "      <td>-0.095494</td>\n",
              "      <td>-0.103355</td>\n",
              "      <td>-0.098222</td>\n",
              "      <td>0.211701</td>\n",
              "      <td>0.006333</td>\n",
              "      <td>0.158117</td>\n",
              "      <td>-0.020455</td>\n",
              "      <td>0.014420</td>\n",
              "      <td>0.187986</td>\n",
              "      <td>-0.032558</td>\n",
              "      <td>-0.028629</td>\n",
              "      <td>0.038549</td>\n",
              "      <td>0.040789</td>\n",
              "      <td>0.000155</td>\n",
              "      <td>-0.032798</td>\n",
              "      <td>-0.008305</td>\n",
              "      <td>-0.047811</td>\n",
              "    </tr>\n",
              "    <tr>\n",
              "      <th>client_std</th>\n",
              "      <td>-0.202887</td>\n",
              "      <td>0.059435</td>\n",
              "      <td>0.144363</td>\n",
              "      <td>0.207737</td>\n",
              "      <td>-0.549036</td>\n",
              "      <td>-0.181938</td>\n",
              "      <td>0.011856</td>\n",
              "      <td>0.102949</td>\n",
              "      <td>0.213782</td>\n",
              "      <td>0.210934</td>\n",
              "      <td>-0.270809</td>\n",
              "      <td>1.000000</td>\n",
              "      <td>0.334918</td>\n",
              "      <td>0.105911</td>\n",
              "      <td>0.088828</td>\n",
              "      <td>0.264725</td>\n",
              "      <td>0.238192</td>\n",
              "      <td>0.218835</td>\n",
              "      <td>0.217547</td>\n",
              "      <td>-0.019700</td>\n",
              "      <td>-0.154554</td>\n",
              "      <td>0.006396</td>\n",
              "      <td>-0.003076</td>\n",
              "      <td>0.171349</td>\n",
              "      <td>0.038971</td>\n",
              "      <td>0.030998</td>\n",
              "      <td>-0.053223</td>\n",
              "      <td>-0.135861</td>\n",
              "      <td>-0.002281</td>\n",
              "      <td>0.077607</td>\n",
              "      <td>0.102616</td>\n",
              "      <td>0.076925</td>\n",
              "    </tr>\n",
              "    <tr>\n",
              "      <th>client_mean</th>\n",
              "      <td>-0.337319</td>\n",
              "      <td>0.352779</td>\n",
              "      <td>0.310999</td>\n",
              "      <td>0.081494</td>\n",
              "      <td>-0.565282</td>\n",
              "      <td>-0.252761</td>\n",
              "      <td>0.154912</td>\n",
              "      <td>0.217094</td>\n",
              "      <td>0.156317</td>\n",
              "      <td>0.340231</td>\n",
              "      <td>-0.224436</td>\n",
              "      <td>0.334918</td>\n",
              "      <td>1.000000</td>\n",
              "      <td>0.172546</td>\n",
              "      <td>0.164663</td>\n",
              "      <td>-0.075177</td>\n",
              "      <td>0.637928</td>\n",
              "      <td>0.406368</td>\n",
              "      <td>0.414613</td>\n",
              "      <td>-0.037494</td>\n",
              "      <td>-0.269970</td>\n",
              "      <td>0.006431</td>\n",
              "      <td>-0.008573</td>\n",
              "      <td>0.256773</td>\n",
              "      <td>0.064116</td>\n",
              "      <td>0.041045</td>\n",
              "      <td>-0.088199</td>\n",
              "      <td>-0.064982</td>\n",
              "      <td>-0.002111</td>\n",
              "      <td>0.062156</td>\n",
              "      <td>0.226521</td>\n",
              "      <td>0.143739</td>\n",
              "    </tr>\n",
              "    <tr>\n",
              "      <th>cart_std</th>\n",
              "      <td>0.002646</td>\n",
              "      <td>0.228386</td>\n",
              "      <td>0.227135</td>\n",
              "      <td>0.197986</td>\n",
              "      <td>-0.054819</td>\n",
              "      <td>0.257006</td>\n",
              "      <td>0.096547</td>\n",
              "      <td>-0.044279</td>\n",
              "      <td>-0.046596</td>\n",
              "      <td>-0.092703</td>\n",
              "      <td>-0.051916</td>\n",
              "      <td>0.105911</td>\n",
              "      <td>0.172546</td>\n",
              "      <td>1.000000</td>\n",
              "      <td>0.894632</td>\n",
              "      <td>0.056404</td>\n",
              "      <td>0.294560</td>\n",
              "      <td>0.351978</td>\n",
              "      <td>0.118002</td>\n",
              "      <td>-0.266782</td>\n",
              "      <td>-0.045327</td>\n",
              "      <td>-0.009130</td>\n",
              "      <td>0.006298</td>\n",
              "      <td>-0.006977</td>\n",
              "      <td>0.016312</td>\n",
              "      <td>0.010799</td>\n",
              "      <td>0.004342</td>\n",
              "      <td>0.000597</td>\n",
              "      <td>-0.000144</td>\n",
              "      <td>0.183990</td>\n",
              "      <td>-0.307533</td>\n",
              "      <td>0.287739</td>\n",
              "    </tr>\n",
              "    <tr>\n",
              "      <th>cart_mean</th>\n",
              "      <td>0.007461</td>\n",
              "      <td>0.254229</td>\n",
              "      <td>0.251986</td>\n",
              "      <td>0.218309</td>\n",
              "      <td>-0.046343</td>\n",
              "      <td>0.287169</td>\n",
              "      <td>0.108181</td>\n",
              "      <td>-0.046956</td>\n",
              "      <td>-0.049121</td>\n",
              "      <td>-0.102053</td>\n",
              "      <td>-0.046018</td>\n",
              "      <td>0.088828</td>\n",
              "      <td>0.164663</td>\n",
              "      <td>0.894632</td>\n",
              "      <td>1.000000</td>\n",
              "      <td>0.020986</td>\n",
              "      <td>0.319250</td>\n",
              "      <td>0.390269</td>\n",
              "      <td>0.111971</td>\n",
              "      <td>-0.294519</td>\n",
              "      <td>-0.043443</td>\n",
              "      <td>-0.008547</td>\n",
              "      <td>0.006154</td>\n",
              "      <td>-0.011690</td>\n",
              "      <td>0.015090</td>\n",
              "      <td>0.009691</td>\n",
              "      <td>0.006694</td>\n",
              "      <td>0.002634</td>\n",
              "      <td>0.001886</td>\n",
              "      <td>0.242462</td>\n",
              "      <td>-0.296693</td>\n",
              "      <td>0.323560</td>\n",
              "    </tr>\n",
              "    <tr>\n",
              "      <th>client_cart_std</th>\n",
              "      <td>0.027034</td>\n",
              "      <td>-0.521888</td>\n",
              "      <td>0.239465</td>\n",
              "      <td>0.206255</td>\n",
              "      <td>-0.098376</td>\n",
              "      <td>0.063861</td>\n",
              "      <td>-0.192482</td>\n",
              "      <td>-0.083738</td>\n",
              "      <td>0.059710</td>\n",
              "      <td>-0.216906</td>\n",
              "      <td>-0.095494</td>\n",
              "      <td>0.264725</td>\n",
              "      <td>-0.075177</td>\n",
              "      <td>0.056404</td>\n",
              "      <td>0.020986</td>\n",
              "      <td>1.000000</td>\n",
              "      <td>-0.381356</td>\n",
              "      <td>-0.048467</td>\n",
              "      <td>0.010398</td>\n",
              "      <td>-0.002662</td>\n",
              "      <td>-0.013967</td>\n",
              "      <td>0.000019</td>\n",
              "      <td>0.000791</td>\n",
              "      <td>-0.002896</td>\n",
              "      <td>0.003200</td>\n",
              "      <td>0.004618</td>\n",
              "      <td>0.050018</td>\n",
              "      <td>-0.031356</td>\n",
              "      <td>0.000880</td>\n",
              "      <td>-0.182110</td>\n",
              "      <td>-0.061203</td>\n",
              "      <td>-0.025093</td>\n",
              "    </tr>\n",
              "    <tr>\n",
              "      <th>client_cart_mean</th>\n",
              "      <td>-0.310341</td>\n",
              "      <td>0.740117</td>\n",
              "      <td>0.379380</td>\n",
              "      <td>0.189441</td>\n",
              "      <td>-0.420420</td>\n",
              "      <td>0.110710</td>\n",
              "      <td>0.386056</td>\n",
              "      <td>0.141525</td>\n",
              "      <td>0.076159</td>\n",
              "      <td>0.380410</td>\n",
              "      <td>-0.103355</td>\n",
              "      <td>0.238192</td>\n",
              "      <td>0.637928</td>\n",
              "      <td>0.294560</td>\n",
              "      <td>0.319250</td>\n",
              "      <td>-0.381356</td>\n",
              "      <td>1.000000</td>\n",
              "      <td>0.711927</td>\n",
              "      <td>0.276685</td>\n",
              "      <td>-0.090600</td>\n",
              "      <td>-0.178784</td>\n",
              "      <td>0.001861</td>\n",
              "      <td>-0.004807</td>\n",
              "      <td>0.221217</td>\n",
              "      <td>0.042892</td>\n",
              "      <td>0.027664</td>\n",
              "      <td>-0.063571</td>\n",
              "      <td>-0.035422</td>\n",
              "      <td>-0.001852</td>\n",
              "      <td>0.294311</td>\n",
              "      <td>-0.074583</td>\n",
              "      <td>0.266334</td>\n",
              "    </tr>\n",
              "    <tr>\n",
              "      <th>client_cart_3ord_mean</th>\n",
              "      <td>-0.125343</td>\n",
              "      <td>0.627910</td>\n",
              "      <td>0.637840</td>\n",
              "      <td>0.592813</td>\n",
              "      <td>-0.220562</td>\n",
              "      <td>0.294994</td>\n",
              "      <td>0.234609</td>\n",
              "      <td>0.135619</td>\n",
              "      <td>0.137067</td>\n",
              "      <td>0.146179</td>\n",
              "      <td>-0.098222</td>\n",
              "      <td>0.218835</td>\n",
              "      <td>0.406368</td>\n",
              "      <td>0.351978</td>\n",
              "      <td>0.390269</td>\n",
              "      <td>-0.048467</td>\n",
              "      <td>0.711927</td>\n",
              "      <td>1.000000</td>\n",
              "      <td>0.175709</td>\n",
              "      <td>-0.112230</td>\n",
              "      <td>-0.106122</td>\n",
              "      <td>0.002637</td>\n",
              "      <td>-0.004030</td>\n",
              "      <td>0.088700</td>\n",
              "      <td>0.026718</td>\n",
              "      <td>0.017848</td>\n",
              "      <td>-0.055396</td>\n",
              "      <td>-0.062478</td>\n",
              "      <td>-0.002326</td>\n",
              "      <td>0.561946</td>\n",
              "      <td>-0.340632</td>\n",
              "      <td>0.336518</td>\n",
              "    </tr>\n",
              "    <tr>\n",
              "      <th>user_id</th>\n",
              "      <td>-0.610943</td>\n",
              "      <td>0.140616</td>\n",
              "      <td>0.136446</td>\n",
              "      <td>0.045838</td>\n",
              "      <td>-0.342408</td>\n",
              "      <td>-0.183076</td>\n",
              "      <td>0.272228</td>\n",
              "      <td>-0.052451</td>\n",
              "      <td>-0.066950</td>\n",
              "      <td>-0.012859</td>\n",
              "      <td>0.211701</td>\n",
              "      <td>0.217547</td>\n",
              "      <td>0.414613</td>\n",
              "      <td>0.118002</td>\n",
              "      <td>0.111971</td>\n",
              "      <td>0.010398</td>\n",
              "      <td>0.276685</td>\n",
              "      <td>0.175709</td>\n",
              "      <td>1.000000</td>\n",
              "      <td>-0.028720</td>\n",
              "      <td>0.107081</td>\n",
              "      <td>-0.044493</td>\n",
              "      <td>0.033008</td>\n",
              "      <td>0.559556</td>\n",
              "      <td>-0.002093</td>\n",
              "      <td>-0.015140</td>\n",
              "      <td>-0.002668</td>\n",
              "      <td>-0.012455</td>\n",
              "      <td>-0.003467</td>\n",
              "      <td>0.016436</td>\n",
              "      <td>0.146899</td>\n",
              "      <td>0.067367</td>\n",
              "    </tr>\n",
              "    <tr>\n",
              "      <th>cart</th>\n",
              "      <td>-0.003307</td>\n",
              "      <td>-0.073867</td>\n",
              "      <td>-0.071877</td>\n",
              "      <td>-0.062598</td>\n",
              "      <td>0.004839</td>\n",
              "      <td>-0.092256</td>\n",
              "      <td>-0.034247</td>\n",
              "      <td>0.006839</td>\n",
              "      <td>0.008685</td>\n",
              "      <td>0.022559</td>\n",
              "      <td>0.006333</td>\n",
              "      <td>-0.019700</td>\n",
              "      <td>-0.037494</td>\n",
              "      <td>-0.266782</td>\n",
              "      <td>-0.294519</td>\n",
              "      <td>-0.002662</td>\n",
              "      <td>-0.090600</td>\n",
              "      <td>-0.112230</td>\n",
              "      <td>-0.028720</td>\n",
              "      <td>1.000000</td>\n",
              "      <td>0.011189</td>\n",
              "      <td>0.002380</td>\n",
              "      <td>-0.002129</td>\n",
              "      <td>0.006659</td>\n",
              "      <td>-0.002885</td>\n",
              "      <td>-0.002342</td>\n",
              "      <td>0.002938</td>\n",
              "      <td>0.003073</td>\n",
              "      <td>0.007314</td>\n",
              "      <td>-0.074152</td>\n",
              "      <td>0.088605</td>\n",
              "      <td>-0.094375</td>\n",
              "    </tr>\n",
              "    <tr>\n",
              "      <th>order_month_int</th>\n",
              "      <td>0.016122</td>\n",
              "      <td>-0.080446</td>\n",
              "      <td>-0.085140</td>\n",
              "      <td>-0.029543</td>\n",
              "      <td>0.215889</td>\n",
              "      <td>0.108452</td>\n",
              "      <td>-0.001619</td>\n",
              "      <td>-0.013485</td>\n",
              "      <td>-0.026412</td>\n",
              "      <td>-0.085664</td>\n",
              "      <td>0.158117</td>\n",
              "      <td>-0.154554</td>\n",
              "      <td>-0.269970</td>\n",
              "      <td>-0.045327</td>\n",
              "      <td>-0.043443</td>\n",
              "      <td>-0.013967</td>\n",
              "      <td>-0.178784</td>\n",
              "      <td>-0.106122</td>\n",
              "      <td>0.107081</td>\n",
              "      <td>0.011189</td>\n",
              "      <td>1.000000</td>\n",
              "      <td>-0.071811</td>\n",
              "      <td>0.058890</td>\n",
              "      <td>0.090566</td>\n",
              "      <td>-0.149810</td>\n",
              "      <td>-0.176329</td>\n",
              "      <td>-0.009545</td>\n",
              "      <td>0.010539</td>\n",
              "      <td>-0.004029</td>\n",
              "      <td>-0.003181</td>\n",
              "      <td>-0.087753</td>\n",
              "      <td>-0.023246</td>\n",
              "    </tr>\n",
              "    <tr>\n",
              "      <th>order_hour_int</th>\n",
              "      <td>0.043428</td>\n",
              "      <td>0.000624</td>\n",
              "      <td>0.001293</td>\n",
              "      <td>0.003079</td>\n",
              "      <td>0.014601</td>\n",
              "      <td>0.013139</td>\n",
              "      <td>-0.015835</td>\n",
              "      <td>0.039122</td>\n",
              "      <td>0.037409</td>\n",
              "      <td>0.048120</td>\n",
              "      <td>-0.020455</td>\n",
              "      <td>0.006396</td>\n",
              "      <td>0.006431</td>\n",
              "      <td>-0.009130</td>\n",
              "      <td>-0.008547</td>\n",
              "      <td>0.000019</td>\n",
              "      <td>0.001861</td>\n",
              "      <td>0.002637</td>\n",
              "      <td>-0.044493</td>\n",
              "      <td>0.002380</td>\n",
              "      <td>-0.071811</td>\n",
              "      <td>1.000000</td>\n",
              "      <td>-0.813364</td>\n",
              "      <td>-0.050595</td>\n",
              "      <td>-0.006298</td>\n",
              "      <td>-0.000444</td>\n",
              "      <td>0.009192</td>\n",
              "      <td>-0.006635</td>\n",
              "      <td>0.002808</td>\n",
              "      <td>0.003222</td>\n",
              "      <td>-0.006788</td>\n",
              "      <td>0.004622</td>\n",
              "    </tr>\n",
              "    <tr>\n",
              "      <th>order_is_morning</th>\n",
              "      <td>-0.026316</td>\n",
              "      <td>-0.003136</td>\n",
              "      <td>-0.000694</td>\n",
              "      <td>-0.003748</td>\n",
              "      <td>-0.004975</td>\n",
              "      <td>-0.005069</td>\n",
              "      <td>0.011775</td>\n",
              "      <td>-0.037973</td>\n",
              "      <td>-0.030262</td>\n",
              "      <td>-0.041581</td>\n",
              "      <td>0.014420</td>\n",
              "      <td>-0.003076</td>\n",
              "      <td>-0.008573</td>\n",
              "      <td>0.006298</td>\n",
              "      <td>0.006154</td>\n",
              "      <td>0.000791</td>\n",
              "      <td>-0.004807</td>\n",
              "      <td>-0.004030</td>\n",
              "      <td>0.033008</td>\n",
              "      <td>-0.002129</td>\n",
              "      <td>0.058890</td>\n",
              "      <td>-0.813364</td>\n",
              "      <td>1.000000</td>\n",
              "      <td>0.031892</td>\n",
              "      <td>0.006832</td>\n",
              "      <td>0.000055</td>\n",
              "      <td>0.000732</td>\n",
              "      <td>0.007098</td>\n",
              "      <td>-0.001424</td>\n",
              "      <td>-0.002125</td>\n",
              "      <td>0.002069</td>\n",
              "      <td>0.000359</td>\n",
              "    </tr>\n",
              "    <tr>\n",
              "      <th>client_cart_first_order_day_int</th>\n",
              "      <td>-0.898547</td>\n",
              "      <td>0.098262</td>\n",
              "      <td>0.063802</td>\n",
              "      <td>-0.000512</td>\n",
              "      <td>-0.442051</td>\n",
              "      <td>-0.307821</td>\n",
              "      <td>0.198693</td>\n",
              "      <td>-0.034072</td>\n",
              "      <td>-0.056837</td>\n",
              "      <td>0.056015</td>\n",
              "      <td>0.187986</td>\n",
              "      <td>0.171349</td>\n",
              "      <td>0.256773</td>\n",
              "      <td>-0.006977</td>\n",
              "      <td>-0.011690</td>\n",
              "      <td>-0.002896</td>\n",
              "      <td>0.221217</td>\n",
              "      <td>0.088700</td>\n",
              "      <td>0.559556</td>\n",
              "      <td>0.006659</td>\n",
              "      <td>0.090566</td>\n",
              "      <td>-0.050595</td>\n",
              "      <td>0.031892</td>\n",
              "      <td>1.000000</td>\n",
              "      <td>-0.004111</td>\n",
              "      <td>-0.011247</td>\n",
              "      <td>-0.008263</td>\n",
              "      <td>-0.010335</td>\n",
              "      <td>-0.001669</td>\n",
              "      <td>-0.030939</td>\n",
              "      <td>0.243605</td>\n",
              "      <td>0.000065</td>\n",
              "    </tr>\n",
              "    <tr>\n",
              "      <th>order_weekday_cat</th>\n",
              "      <td>-0.009038</td>\n",
              "      <td>0.021418</td>\n",
              "      <td>0.018564</td>\n",
              "      <td>0.009265</td>\n",
              "      <td>-0.057511</td>\n",
              "      <td>-0.029670</td>\n",
              "      <td>0.007028</td>\n",
              "      <td>0.002328</td>\n",
              "      <td>-0.007021</td>\n",
              "      <td>0.008282</td>\n",
              "      <td>-0.032558</td>\n",
              "      <td>0.038971</td>\n",
              "      <td>0.064116</td>\n",
              "      <td>0.016312</td>\n",
              "      <td>0.015090</td>\n",
              "      <td>0.003200</td>\n",
              "      <td>0.042892</td>\n",
              "      <td>0.026718</td>\n",
              "      <td>-0.002093</td>\n",
              "      <td>-0.002885</td>\n",
              "      <td>-0.149810</td>\n",
              "      <td>-0.006298</td>\n",
              "      <td>0.006832</td>\n",
              "      <td>-0.004111</td>\n",
              "      <td>1.000000</td>\n",
              "      <td>0.796067</td>\n",
              "      <td>-0.019593</td>\n",
              "      <td>0.008551</td>\n",
              "      <td>-0.000504</td>\n",
              "      <td>0.004185</td>\n",
              "      <td>0.020995</td>\n",
              "      <td>0.003417</td>\n",
              "    </tr>\n",
              "    <tr>\n",
              "      <th>order_is_weekend</th>\n",
              "      <td>0.000591</td>\n",
              "      <td>0.013206</td>\n",
              "      <td>0.012525</td>\n",
              "      <td>0.007230</td>\n",
              "      <td>-0.040750</td>\n",
              "      <td>-0.019591</td>\n",
              "      <td>0.004741</td>\n",
              "      <td>0.003292</td>\n",
              "      <td>-0.001635</td>\n",
              "      <td>0.006858</td>\n",
              "      <td>-0.028629</td>\n",
              "      <td>0.030998</td>\n",
              "      <td>0.041045</td>\n",
              "      <td>0.010799</td>\n",
              "      <td>0.009691</td>\n",
              "      <td>0.004618</td>\n",
              "      <td>0.027664</td>\n",
              "      <td>0.017848</td>\n",
              "      <td>-0.015140</td>\n",
              "      <td>-0.002342</td>\n",
              "      <td>-0.176329</td>\n",
              "      <td>-0.000444</td>\n",
              "      <td>0.000055</td>\n",
              "      <td>-0.011247</td>\n",
              "      <td>0.796067</td>\n",
              "      <td>1.000000</td>\n",
              "      <td>-0.013505</td>\n",
              "      <td>0.003170</td>\n",
              "      <td>-0.000964</td>\n",
              "      <td>0.003755</td>\n",
              "      <td>0.014040</td>\n",
              "      <td>0.004157</td>\n",
              "    </tr>\n",
              "    <tr>\n",
              "      <th>is_small_prev_order</th>\n",
              "      <td>0.005232</td>\n",
              "      <td>-0.093173</td>\n",
              "      <td>-0.004032</td>\n",
              "      <td>-0.004044</td>\n",
              "      <td>-0.000197</td>\n",
              "      <td>-0.024999</td>\n",
              "      <td>-0.010332</td>\n",
              "      <td>-0.307946</td>\n",
              "      <td>-0.112127</td>\n",
              "      <td>-0.169829</td>\n",
              "      <td>0.038549</td>\n",
              "      <td>-0.053223</td>\n",
              "      <td>-0.088199</td>\n",
              "      <td>0.004342</td>\n",
              "      <td>0.006694</td>\n",
              "      <td>0.050018</td>\n",
              "      <td>-0.063571</td>\n",
              "      <td>-0.055396</td>\n",
              "      <td>-0.002668</td>\n",
              "      <td>0.002938</td>\n",
              "      <td>-0.009545</td>\n",
              "      <td>0.009192</td>\n",
              "      <td>0.000732</td>\n",
              "      <td>-0.008263</td>\n",
              "      <td>-0.019593</td>\n",
              "      <td>-0.013505</td>\n",
              "      <td>1.000000</td>\n",
              "      <td>0.181256</td>\n",
              "      <td>-0.000020</td>\n",
              "      <td>-0.029357</td>\n",
              "      <td>0.027905</td>\n",
              "      <td>-0.023463</td>\n",
              "    </tr>\n",
              "    <tr>\n",
              "      <th>lag_is_small_prev_order</th>\n",
              "      <td>0.011675</td>\n",
              "      <td>-0.009003</td>\n",
              "      <td>-0.092277</td>\n",
              "      <td>-0.013243</td>\n",
              "      <td>0.008153</td>\n",
              "      <td>-0.022083</td>\n",
              "      <td>0.007123</td>\n",
              "      <td>-0.117929</td>\n",
              "      <td>-0.303524</td>\n",
              "      <td>-0.159577</td>\n",
              "      <td>0.040789</td>\n",
              "      <td>-0.135861</td>\n",
              "      <td>-0.064982</td>\n",
              "      <td>0.000597</td>\n",
              "      <td>0.002634</td>\n",
              "      <td>-0.031356</td>\n",
              "      <td>-0.035422</td>\n",
              "      <td>-0.062478</td>\n",
              "      <td>-0.012455</td>\n",
              "      <td>0.003073</td>\n",
              "      <td>0.010539</td>\n",
              "      <td>-0.006635</td>\n",
              "      <td>0.007098</td>\n",
              "      <td>-0.010335</td>\n",
              "      <td>0.008551</td>\n",
              "      <td>0.003170</td>\n",
              "      <td>0.181256</td>\n",
              "      <td>1.000000</td>\n",
              "      <td>0.001973</td>\n",
              "      <td>-0.029348</td>\n",
              "      <td>0.024329</td>\n",
              "      <td>-0.022633</td>\n",
              "    </tr>\n",
              "    <tr>\n",
              "      <th>is_cart_out</th>\n",
              "      <td>0.001546</td>\n",
              "      <td>-0.002296</td>\n",
              "      <td>0.000228</td>\n",
              "      <td>-0.002316</td>\n",
              "      <td>0.000147</td>\n",
              "      <td>-0.002286</td>\n",
              "      <td>-0.000609</td>\n",
              "      <td>0.000543</td>\n",
              "      <td>-0.001352</td>\n",
              "      <td>0.000646</td>\n",
              "      <td>0.000155</td>\n",
              "      <td>-0.002281</td>\n",
              "      <td>-0.002111</td>\n",
              "      <td>-0.000144</td>\n",
              "      <td>0.001886</td>\n",
              "      <td>0.000880</td>\n",
              "      <td>-0.001852</td>\n",
              "      <td>-0.002326</td>\n",
              "      <td>-0.003467</td>\n",
              "      <td>0.007314</td>\n",
              "      <td>-0.004029</td>\n",
              "      <td>0.002808</td>\n",
              "      <td>-0.001424</td>\n",
              "      <td>-0.001669</td>\n",
              "      <td>-0.000504</td>\n",
              "      <td>-0.000964</td>\n",
              "      <td>-0.000020</td>\n",
              "      <td>0.001973</td>\n",
              "      <td>1.000000</td>\n",
              "      <td>-0.001052</td>\n",
              "      <td>0.004943</td>\n",
              "      <td>-0.002469</td>\n",
              "    </tr>\n",
              "    <tr>\n",
              "      <th>is_in_all_3ord</th>\n",
              "      <td>0.039715</td>\n",
              "      <td>0.334514</td>\n",
              "      <td>0.332772</td>\n",
              "      <td>0.380092</td>\n",
              "      <td>0.002287</td>\n",
              "      <td>0.287792</td>\n",
              "      <td>0.084541</td>\n",
              "      <td>0.082067</td>\n",
              "      <td>0.079435</td>\n",
              "      <td>0.002433</td>\n",
              "      <td>-0.032798</td>\n",
              "      <td>0.077607</td>\n",
              "      <td>0.062156</td>\n",
              "      <td>0.183990</td>\n",
              "      <td>0.242462</td>\n",
              "      <td>-0.182110</td>\n",
              "      <td>0.294311</td>\n",
              "      <td>0.561946</td>\n",
              "      <td>0.016436</td>\n",
              "      <td>-0.074152</td>\n",
              "      <td>-0.003181</td>\n",
              "      <td>0.003222</td>\n",
              "      <td>-0.002125</td>\n",
              "      <td>-0.030939</td>\n",
              "      <td>0.004185</td>\n",
              "      <td>0.003755</td>\n",
              "      <td>-0.029357</td>\n",
              "      <td>-0.029348</td>\n",
              "      <td>-0.001052</td>\n",
              "      <td>1.000000</td>\n",
              "      <td>-0.212918</td>\n",
              "      <td>0.234654</td>\n",
              "    </tr>\n",
              "    <tr>\n",
              "      <th>is_only_one_ord</th>\n",
              "      <td>-0.302898</td>\n",
              "      <td>-0.183870</td>\n",
              "      <td>-0.197598</td>\n",
              "      <td>-0.254946</td>\n",
              "      <td>-0.323878</td>\n",
              "      <td>-0.462495</td>\n",
              "      <td>0.002160</td>\n",
              "      <td>-0.065317</td>\n",
              "      <td>-0.064875</td>\n",
              "      <td>0.139030</td>\n",
              "      <td>-0.008305</td>\n",
              "      <td>0.102616</td>\n",
              "      <td>0.226521</td>\n",
              "      <td>-0.307533</td>\n",
              "      <td>-0.296693</td>\n",
              "      <td>-0.061203</td>\n",
              "      <td>-0.074583</td>\n",
              "      <td>-0.340632</td>\n",
              "      <td>0.146899</td>\n",
              "      <td>0.088605</td>\n",
              "      <td>-0.087753</td>\n",
              "      <td>-0.006788</td>\n",
              "      <td>0.002069</td>\n",
              "      <td>0.243605</td>\n",
              "      <td>0.020995</td>\n",
              "      <td>0.014040</td>\n",
              "      <td>0.027905</td>\n",
              "      <td>0.024329</td>\n",
              "      <td>0.004943</td>\n",
              "      <td>-0.212918</td>\n",
              "      <td>1.000000</td>\n",
              "      <td>-0.205874</td>\n",
              "    </tr>\n",
              "    <tr>\n",
              "      <th>target</th>\n",
              "      <td>-0.000123</td>\n",
              "      <td>0.234672</td>\n",
              "      <td>0.208164</td>\n",
              "      <td>0.181505</td>\n",
              "      <td>-0.043755</td>\n",
              "      <td>0.212926</td>\n",
              "      <td>0.077945</td>\n",
              "      <td>0.060658</td>\n",
              "      <td>0.053866</td>\n",
              "      <td>0.027771</td>\n",
              "      <td>-0.047811</td>\n",
              "      <td>0.076925</td>\n",
              "      <td>0.143739</td>\n",
              "      <td>0.287739</td>\n",
              "      <td>0.323560</td>\n",
              "      <td>-0.025093</td>\n",
              "      <td>0.266334</td>\n",
              "      <td>0.336518</td>\n",
              "      <td>0.067367</td>\n",
              "      <td>-0.094375</td>\n",
              "      <td>-0.023246</td>\n",
              "      <td>0.004622</td>\n",
              "      <td>0.000359</td>\n",
              "      <td>0.000065</td>\n",
              "      <td>0.003417</td>\n",
              "      <td>0.004157</td>\n",
              "      <td>-0.023463</td>\n",
              "      <td>-0.022633</td>\n",
              "      <td>-0.002469</td>\n",
              "      <td>0.234654</td>\n",
              "      <td>-0.205874</td>\n",
              "      <td>1.000000</td>\n",
              "    </tr>\n",
              "  </tbody>\n",
              "</table>\n",
              "</div>"
            ],
            "text/plain": [
              "                                 client_cart_period  ...    target\n",
              "client_cart_period                         1.000000  ... -0.000123\n",
              "lag_target                                -0.146595  ...  0.234672\n",
              "lag2_target                               -0.086648  ...  0.208164\n",
              "lag3_target                                0.005223  ...  0.181505\n",
              "client_num_of_order                        0.522705  ... -0.043755\n",
              "client_cart_num_of_order                   0.355256  ...  0.212926\n",
              "client_cart_1y_qnt                        -0.280375  ...  0.077945\n",
              "cart_qnt_in_prev_order                     0.037893  ...  0.060658\n",
              "lag_cart_qnt_in_prev_order                 0.061277  ...  0.053866\n",
              "mean_size_order                           -0.102538  ...  0.027771\n",
              "orders_per_year                           -0.225074  ... -0.047811\n",
              "client_std                                -0.202887  ...  0.076925\n",
              "client_mean                               -0.337319  ...  0.143739\n",
              "cart_std                                   0.002646  ...  0.287739\n",
              "cart_mean                                  0.007461  ...  0.323560\n",
              "client_cart_std                            0.027034  ... -0.025093\n",
              "client_cart_mean                          -0.310341  ...  0.266334\n",
              "client_cart_3ord_mean                     -0.125343  ...  0.336518\n",
              "user_id                                   -0.610943  ...  0.067367\n",
              "cart                                      -0.003307  ... -0.094375\n",
              "order_month_int                            0.016122  ... -0.023246\n",
              "order_hour_int                             0.043428  ...  0.004622\n",
              "order_is_morning                          -0.026316  ...  0.000359\n",
              "client_cart_first_order_day_int           -0.898547  ...  0.000065\n",
              "order_weekday_cat                         -0.009038  ...  0.003417\n",
              "order_is_weekend                           0.000591  ...  0.004157\n",
              "is_small_prev_order                        0.005232  ... -0.023463\n",
              "lag_is_small_prev_order                    0.011675  ... -0.022633\n",
              "is_cart_out                                0.001546  ... -0.002469\n",
              "is_in_all_3ord                             0.039715  ...  0.234654\n",
              "is_only_one_ord                           -0.302898  ... -0.205874\n",
              "target                                    -0.000123  ...  1.000000\n",
              "\n",
              "[32 rows x 32 columns]"
            ]
          },
          "metadata": {},
          "execution_count": 136
        }
      ]
    },
    {
      "cell_type": "code",
      "metadata": {
        "colab": {
          "base_uri": "https://localhost:8080/",
          "height": 1000
        },
        "id": "29RPS6YRjtyI",
        "outputId": "0539964f-0191-4ba9-e542-57cf99ca6798"
      },
      "source": [
        "# Тепловой график для корреляций\n",
        "plt.figure(figsize=(20,16))\n",
        "sns.set_theme(style=\"darkgrid\", palette=\"deep\")\n",
        "sns.heatmap(data.loc[:, num_cols1 + cat_cols1 + [target_col]].corr().abs())"
      ],
      "execution_count": 139,
      "outputs": [
        {
          "output_type": "execute_result",
          "data": {
            "text/plain": [
              "<matplotlib.axes._subplots.AxesSubplot at 0x7fed9c7db750>"
            ]
          },
          "metadata": {},
          "execution_count": 139
        },
        {
          "output_type": "display_data",
          "data": {
            "image/png": "[encoded data removed]",
            "text/plain": [
              "<Figure size 1440x1152 with 2 Axes>"
            ]
          },
          "metadata": {}
        }
      ]
    },
    {
      "cell_type": "markdown",
      "metadata": {
        "id": "NmEVrPqgb8mx"
      },
      "source": [
        "# 4. Обучение модели"
      ]
    },
    {
      "cell_type": "code",
      "metadata": {
        "id": "YcphfofRidyP"
      },
      "source": [
        "from sklearn.metrics import f1_score\n",
        "from sklearn.linear_model import LogisticRegression\n",
        "from sklearn.model_selection import train_test_split\n",
        "from sklearn.preprocessing import StandardScaler, OneHotEncoder, PolynomialFeatures\n",
        "from sklearn.compose import ColumnTransformer\n",
        "from sklearn.pipeline import Pipeline\n",
        "from imblearn.under_sampling import RandomUnderSampler"
      ],
      "execution_count": 151,
      "outputs": []
    },
    {
      "cell_type": "code",
      "metadata": {
        "colab": {
          "base_uri": "https://localhost:8080/"
        },
        "id": "vtgjxerUmgHl",
        "outputId": "df87e198-feb1-43a2-fc70-4e856dc5fb3f"
      },
      "source": [
        "#from imblearn.under_sampling import RandomUnderSampler"
      ],
      "execution_count": null,
      "outputs": [
        {
          "output_type": "stream",
          "name": "stderr",
          "text": [
            "/usr/local/lib/python3.7/dist-packages/sklearn/externals/six.py:31: FutureWarning: The module is deprecated in version 0.21 and will be removed in version 0.23 since we've dropped support for Python 2.7. Please rely on the official version of six (https://pypi.org/project/six/).\n",
            "  \"(https://pypi.org/project/six/).\", FutureWarning)\n",
            "/usr/local/lib/python3.7/dist-packages/sklearn/utils/deprecation.py:144: FutureWarning: The sklearn.neighbors.base module is  deprecated in version 0.22 and will be removed in version 0.24. The corresponding classes / functions should instead be imported from sklearn.neighbors. Anything that cannot be imported from sklearn.neighbors is now part of the private API.\n",
            "  warnings.warn(message, FutureWarning)\n",
            "/usr/local/lib/python3.7/dist-packages/sklearn/utils/deprecation.py:87: FutureWarning: Function safe_indexing is deprecated; safe_indexing is deprecated in version 0.22 and will be removed in version 0.24.\n",
            "  warnings.warn(msg, category=FutureWarning)\n"
          ]
        }
      ]
    },
    {
      "cell_type": "code",
      "metadata": {
        "id": "xrOl0JjcniNh"
      },
      "source": [
        "X_train = data[feature_cols]\n",
        "X_test = test[feature_cols]\n",
        "y_train = data[target_col]\n",
        "\n",
        "#rus = RandomUnderSampler(random_state=0)\n",
        "#X_resampled, y_resampled = rus.fit_resample(X_train, y_train)"
      ],
      "execution_count": 141,
      "outputs": []
    },
    {
      "cell_type": "code",
      "metadata": {
        "id": "ydKrCDgdjt3Q"
      },
      "source": [
        "X_train_cb, X_test_cb, y_train_cb, y_test_cb = train_test_split(X_train, y_train, \n",
        "                                                       train_size=0.8, \n",
        "                                                       random_state=1,\n",
        "                                                       shuffle=False)"
      ],
      "execution_count": 143,
      "outputs": []
    },
    {
      "cell_type": "code",
      "metadata": {
        "id": "T3vgS__75kb_"
      },
      "source": [
        "column_transformer = ColumnTransformer([\n",
        "    ('ohe', OneHotEncoder(handle_unknown=\"ignore\"), cat_cols1),\n",
        "    ('scaling', StandardScaler(), num_cols1),\n",
        "    ('poly', PolynomialFeatures(degree=2), num_cols1)\n",
        "])\n",
        "\n",
        "pipeline = Pipeline(steps=[\n",
        "    ('ohe_and_scaling', column_transformer),\n",
        "    ('regression', LogisticRegression(solver = 'liblinear', random_state=42, penalty = 'l1'))\n",
        "])\n",
        "\n",
        "model = pipeline.fit(X_train, y_train)"
      ],
      "execution_count": 149,
      "outputs": []
    },
    {
      "cell_type": "code",
      "metadata": {
        "id": "wwaFjBbIyt_k",
        "colab": {
          "base_uri": "https://localhost:8080/"
        },
        "outputId": "3795993d-cdf5-4d3c-af19-d2b79f37969b"
      },
      "source": [
        "y_pred = model.predict(X_train)\n",
        "f1_score(y_train, y_pred)"
      ],
      "execution_count": 153,
      "outputs": [
        {
          "output_type": "execute_result",
          "data": {
            "text/plain": [
              "0.4297802714830446"
            ]
          },
          "metadata": {},
          "execution_count": 153
        }
      ]
    },
    {
      "cell_type": "code",
      "metadata": {
        "id": "3wqw1EX2nzW8"
      },
      "source": [
        "y_valid = model.predict(valid)"
      ],
      "execution_count": 155,
      "outputs": []
    },
    {
      "cell_type": "code",
      "metadata": {
        "colab": {
          "base_uri": "https://localhost:8080/"
        },
        "id": "2x9bwmqHoS1Y",
        "outputId": "7f051cd1-5e01-4703-a478-bd4eaac7ad2c"
      },
      "source": [
        "valid['id'] = valid['user_id'].apply(lambda x: str(x)) + ';' + valid['cart'].apply(lambda x: str(x)) \n",
        "valid = valid.set_index('id')\n",
        "#test.drop(['user_id','cart'], axis = 1, inplace = True)"
      ],
      "execution_count": 156,
      "outputs": [
        {
          "output_type": "stream",
          "name": "stderr",
          "text": [
            "/usr/local/lib/python3.7/dist-packages/ipykernel_launcher.py:1: SettingWithCopyWarning: \n",
            "A value is trying to be set on a copy of a slice from a DataFrame.\n",
            "Try using .loc[row_indexer,col_indexer] = value instead\n",
            "\n",
            "See the caveats in the documentation: https://pandas.pydata.org/pandas-docs/stable/user_guide/indexing.html#returning-a-view-versus-a-copy\n",
            "  \"\"\"Entry point for launching an IPython kernel.\n"
          ]
        }
      ]
    },
    {
      "cell_type": "code",
      "metadata": {
        "id": "k75HzuBKo7gg"
      },
      "source": [
        "subm = pd.read_csv(\"/content/drive/MyDrive/Colab Notebooks/Data/sample_submission.csv\")"
      ],
      "execution_count": 157,
      "outputs": []
    },
    {
      "cell_type": "code",
      "metadata": {
        "id": "1QzE1gIcplt5"
      },
      "source": [
        "valid['y_valid'] = y_valid"
      ],
      "execution_count": 162,
      "outputs": []
    },
    {
      "cell_type": "code",
      "metadata": {
        "id": "y5RmqSBnpnT4"
      },
      "source": [
        "submission = subm.merge(valid['y_valid'], on = ['id'], how='left').fillna(0).set_index('id').y_valid.astype(int).rename('target')"
      ],
      "execution_count": 182,
      "outputs": []
    },
    {
      "cell_type": "code",
      "metadata": {
        "id": "ijQisP34pz__"
      },
      "source": [
        "submission.to_csv('submission_1.csv')"
      ],
      "execution_count": 183,
      "outputs": []
    },
    {
      "cell_type": "code",
      "metadata": {
        "colab": {
          "base_uri": "https://localhost:8080/",
          "height": 17
        },
        "id": "XaZj9XADqPHH",
        "outputId": "26353c86-ca84-4830-f361-210901e43207"
      },
      "source": [
        "from google.colab import files\n",
        "files.download('submission_1.csv')"
      ],
      "execution_count": 184,
      "outputs": [
        {
          "output_type": "display_data",
          "data": {
            "application/javascript": [
              "\n",
              "    async function download(id, filename, size) {\n",
              "      if (!google.colab.kernel.accessAllowed) {\n",
              "        return;\n",
              "      }\n",
              "      const div = document.createElement('div');\n",
              "      const label = document.createElement('label');\n",
              "      label.textContent = `Downloading \"${filename}\": `;\n",
              "      div.appendChild(label);\n",
              "      const progress = document.createElement('progress');\n",
              "      progress.max = size;\n",
              "      div.appendChild(progress);\n",
              "      document.body.appendChild(div);\n",
              "\n",
              "      const buffers = [];\n",
              "      let downloaded = 0;\n",
              "\n",
              "      const channel = await google.colab.kernel.comms.open(id);\n",
              "      // Send a message to notify the kernel that we're ready.\n",
              "      channel.send({})\n",
              "\n",
              "      for await (const message of channel.messages) {\n",
              "        // Send a message to notify the kernel that we're ready.\n",
              "        channel.send({})\n",
              "        if (message.buffers) {\n",
              "          for (const buffer of message.buffers) {\n",
              "            buffers.push(buffer);\n",
              "            downloaded += buffer.byteLength;\n",
              "            progress.value = downloaded;\n",
              "          }\n",
              "        }\n",
              "      }\n",
              "      const blob = new Blob(buffers, {type: 'application/binary'});\n",
              "      const a = document.createElement('a');\n",
              "      a.href = window.URL.createObjectURL(blob);\n",
              "      a.download = filename;\n",
              "      div.appendChild(a);\n",
              "      a.click();\n",
              "      div.remove();\n",
              "    }\n",
              "  "
            ],
            "text/plain": [
              "<IPython.core.display.Javascript object>"
            ]
          },
          "metadata": {}
        },
        {
          "output_type": "display_data",
          "data": {
            "application/javascript": [
              "download(\"download_58decbd2-e2ca-4019-a25c-4104b7869bc4\", \"submission_1.csv\", 8635281)"
            ],
            "text/plain": [
              "<IPython.core.display.Javascript object>"
            ]
          },
          "metadata": {}
        }
      ]
    },
    {
      "cell_type": "code",
      "metadata": {
        "id": "MzdQue9_q4EO"
      },
      "source": [
        ""
      ],
      "execution_count": null,
      "outputs": []
    }
  ]
}